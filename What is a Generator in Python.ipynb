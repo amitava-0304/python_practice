{
 "cells": [
  {
   "cell_type": "markdown",
   "id": "2bf2d5a8",
   "metadata": {},
   "source": []
  },
  {
   "cell_type": "markdown",
   "id": "7d8b7390",
   "metadata": {},
   "source": [
    "<h2 style=\"color:#2c3e50; font-family:Arial;\">🔍 What is a Generator in Python?</h2>\n",
    "\n",
    "<p style=\"font-size:16px; font-family:Arial; color:#34495e;\">\n",
    "A <strong>generator</strong> is a special type of function that yields values <em>one at a time</em> using the <code>yield</code> keyword instead of returning all values at once.\n",
    "Generators are <strong>memory-efficient</strong> and ideal when:\n",
    "</p>\n",
    "\n",
    "<ul style=\"line-height: 1.8; font-size: 16px; font-family:Arial; color: #34495e;\">\n",
    "  <li>📁 You work with <strong>large data</strong> sets that can't fit into memory.</li>\n",
    "  <li>⏳ You want to <strong>stream results</strong> one at a time as needed.</li>\n",
    "</ul>\n",
    "\n",
    "<h3 style=\"color:#2c3e50; font-family:Arial;\">🛠️ Real-Time Use Cases</h3>\n",
    "\n",
    "<ul style=\"line-height: 1.8; font-size: 16px; font-family:Arial; color: #34495e;\">\n",
    "  <li>📜 <strong>Log File Processing:</strong> Read large log files line-by-line without loading the entire file.</li>\n",
    "  <li>🌡️ <strong>IoT Data Streaming:</strong> Continuously read sensor data (like temperature or pressure).</li>\n",
    "  <li>📡 <strong>Live Feed Monitoring:</strong> Process social media feeds, stock tickers, or live messages.</li>\n",
    "  <li>🗃️ <strong>Large Database Querying:</strong> Fetch and process millions of records one row at a time.</li>\n",
    "  <li>🤖 <strong>Machine Learning:</strong> Load training data in small batches for model training.</li>\n",
    "  <li>🌐 <strong>Web Scraping:</strong> Scrape large websites page-by-page efficiently.</li>\n",
    "</ul>\n",
    "\n",
    "<h3 style=\"color:#2c3e50; font-family:Arial;\">💡 Example: Simple Generator</h3>\n",
    "<pre style=\"background:#f4f4f4;padding:10px;border-left:4px solid #3498db; font-size:15px; font-family:monospace;\">\n",
    "def count_up_to(n):\n",
    "    for i in range(1, n + 1):\n",
    "        yield i\n",
    "\n",
    "for num in count_up_to(5):\n",
    "    print(num)\n",
    "</pre>\n",
    "\n",
    "<h3 style=\"color:#2c3e50; font-family:Arial;\">📊 Summary: Function vs Generator</h3>\n",
    "<table style=\"border-collapse: collapse; width: 100%; font-family:Arial; font-size:15px;\">\n",
    "  <thead style=\"background-color:#3498db; color:#fff;\">\n",
    "    <tr>\n",
    "      <th style=\"padding: 8px;\">Feature</th>\n",
    "      <th style=\"padding: 8px;\">Generator</th>\n",
    "      <th style=\"padding: 8px;\">Function (List)</th>\n",
    "    </tr>\n",
    "  </thead>\n",
    "  <tbody>\n",
    "    <tr style=\"background-color:#ecf0f1;\">\n",
    "      <td style=\"padding: 8px;\">⚡ Memory Usage</td>\n",
    "      <td style=\"padding: 8px;\">Low</td>\n",
    "      <td style=\"padding: 8px;\">High</td>\n",
    "    </tr>\n",
    "    <tr>\n",
    "      <td style=\"padding: 8px;\">🔁 Return Style</td>\n",
    "      <td style=\"padding: 8px;\">One item at a time</td>\n",
    "      <td style=\"padding: 8px;\">All at once</td>\n",
    "    </tr>\n",
    "    <tr style=\"background-color:#ecf0f1;\">\n",
    "      <td style=\"padding: 8px;\">🧩 Syntax</td>\n",
    "      <td style=\"padding: 8px;\">Uses <code>yield</code></td>\n",
    "      <td style=\"padding: 8px;\">Uses <code>return</code></td>\n",
    "    </tr>\n",
    "    <tr>\n",
    "      <td style=\"padding: 8px;\">🎯 Ideal For</td>\n",
    "      <td style=\"padding: 8px;\">Big or streaming data</td>\n",
    "      <td style=\"padding: 8px;\">Small data</td>\n",
    "    </tr>\n",
    "  </tbody>\n",
    "</table>\n"
   ]
  },
  {
   "cell_type": "code",
   "execution_count": 2,
   "id": "d06c06ab",
   "metadata": {},
   "outputs": [
    {
     "name": "stdout",
     "output_type": "stream",
     "text": [
      "List comprehension time: 27.306342 seconds\n",
      "Generator version time: 0.001397 seconds\n"
     ]
    }
   ],
   "source": [
    "import math\n",
    "import timeit\n",
    "\n",
    "def factorial_list(numbers):\n",
    "    return [math.factorial(n) for n in numbers]\n",
    "\n",
    "def factorial_generator(n):\n",
    "    fact = 1\n",
    "    for i in n:\n",
    "        fact *= i\n",
    "        yield fact\n",
    "\n",
    "# Test range (smaller to avoid long run time)\n",
    "nums = list(range(10000))\n",
    "\n",
    "# Time list version\n",
    "list_time = timeit.timeit(lambda: factorial_list(nums), number=1)\n",
    "print(f\"List comprehension time: {list_time:.6f} seconds\")\n",
    "\n",
    "# Time generator version (forced to evaluate using list)\n",
    "gen_time = timeit.timeit(lambda: list(factorial_generator(nums)), number=1)\n",
    "print(f\"Generator version time: {gen_time:.6f} seconds\")\n"
   ]
  },
  {
   "cell_type": "code",
   "execution_count": null,
   "id": "abeea68e",
   "metadata": {},
   "outputs": [],
   "source": []
  }
 ],
 "metadata": {
  "kernelspec": {
   "display_name": "Python 3 (ipykernel)",
   "language": "python",
   "name": "python3"
  },
  "language_info": {
   "codemirror_mode": {
    "name": "ipython",
    "version": 3
   },
   "file_extension": ".py",
   "mimetype": "text/x-python",
   "name": "python",
   "nbconvert_exporter": "python",
   "pygments_lexer": "ipython3",
   "version": "3.9.12"
  }
 },
 "nbformat": 4,
 "nbformat_minor": 5
}
