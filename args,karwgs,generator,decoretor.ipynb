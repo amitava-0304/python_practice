{
 "cells": [
  {
   "cell_type": "code",
   "execution_count": 1,
   "id": "dd46bf0d",
   "metadata": {},
   "outputs": [],
   "source": [
    "l=[i for i in range(0,101) if i%3==0]"
   ]
  },
  {
   "cell_type": "code",
   "execution_count": null,
   "id": "4b8ed8c1",
   "metadata": {},
   "outputs": [],
   "source": [
    "class person:\n",
    "    def _int_(self,age,name):\n",
    "        self.age=age\n",
    "        self.name=name\n",
    "    def height(self,h):\n",
    "        if type(self.h)==int:\n",
    "            return self.h\n",
    "        else:\n",
    "            pass"
   ]
  },
  {
   "cell_type": "code",
   "execution_count": 1,
   "id": "e65a07e5",
   "metadata": {},
   "outputs": [
    {
     "name": "stdout",
     "output_type": "stream",
     "text": [
      "[1, 2, 3, 5, 8, 13, 21, 34, 55, 89]\n"
     ]
    }
   ],
   "source": [
    "def fibo(*args, **kwargs):\n",
    "    a, b = args\n",
    "    n = kwargs.get('n', 10)  # Default n to 10 if not provided\n",
    "    fibonacci_series = []\n",
    "\n",
    "    for _ in range(n):\n",
    "        fibonacci_series.append(a)\n",
    "        a, b = b, a + b\n",
    "\n",
    "    return fibonacci_series\n",
    "\n",
    "# Call the function with two initial values and n as a keyword argument\n",
    "result = fibo(1, 2, n=10)\n",
    "\n",
    "# Print the result\n",
    "print(result)\n"
   ]
  },
  {
   "cell_type": "code",
   "execution_count": 22,
   "id": "7e3e1714",
   "metadata": {},
   "outputs": [],
   "source": [
    "def fibo(*args,**kwargs):\n",
    "    a, b = args\n",
    "    n = kwargs.get('n', 10)  # Default n to 10 if not provided\n",
    "    fibonacci_series = []\n",
    "    try:\n",
    "            for _ in range(n):\n",
    "                  fibonacci_series.append(a)\n",
    "                  a, b = b, a + b\n",
    "            iterator = iter(fibonacci_series)\n",
    "            return iterator\n",
    "\n",
    "    except StopIteration as e:\n",
    "            print(e)\n",
    "            \n",
    "            \n",
    "\n",
    "\n",
    "\n",
    "    \n",
    "l=fibo(1,2,n=10)"
   ]
  },
  {
   "cell_type": "code",
   "execution_count": 2,
   "id": "a233b3e1",
   "metadata": {},
   "outputs": [
    {
     "ename": "AttributeError",
     "evalue": "'list' object has no attribute '__next__'",
     "output_type": "error",
     "traceback": [
      "\u001b[1;31m---------------------------------------------------------------------------\u001b[0m",
      "\u001b[1;31mAttributeError\u001b[0m                            Traceback (most recent call last)",
      "Input \u001b[1;32mIn [2]\u001b[0m, in \u001b[0;36m<cell line: 2>\u001b[1;34m()\u001b[0m\n\u001b[0;32m      1\u001b[0m \u001b[38;5;28;01mwhile\u001b[39;00m \u001b[38;5;28;01mTrue\u001b[39;00m:\n\u001b[1;32m----> 2\u001b[0m     \u001b[38;5;28mprint\u001b[39m(\u001b[43ml\u001b[49m\u001b[38;5;241;43m.\u001b[39;49m\u001b[38;5;21;43m__next__\u001b[39;49m())\n",
      "\u001b[1;31mAttributeError\u001b[0m: 'list' object has no attribute '__next__'"
     ]
    }
   ],
   "source": [
    "while True:\n",
    "    print(l.__next__())"
   ]
  },
  {
   "cell_type": "code",
   "execution_count": 3,
   "id": "77355a4b",
   "metadata": {},
   "outputs": [
    {
     "name": "stdout",
     "output_type": "stream",
     "text": [
      "[0, 1, 1, 2, 3, 5, 8, 13, 21, 34]\n"
     ]
    }
   ],
   "source": [
    "def fibonacci_generator(n):\n",
    "    a, b = 0, 1\n",
    "    count = 0\n",
    "    while count < n:\n",
    "        yield a\n",
    "        a, b = b, a + b\n",
    "        count += 1\n",
    "\n",
    "n = 10  # Change this to the number of terms you want\n",
    "fibonacci_series = list(fibonacci_generator(n))\n",
    "print(fibonacci_series)\n"
   ]
  },
  {
   "cell_type": "code",
   "execution_count": 25,
   "id": "ab7d217c",
   "metadata": {},
   "outputs": [
    {
     "name": "stdout",
     "output_type": "stream",
     "text": [
      "Sum: 30\n"
     ]
    }
   ],
   "source": [
    "def add_numbers(*args):\n",
    "    result = 0\n",
    "    for num in args:\n",
    "        result += num\n",
    "    return result\n",
    "\n",
    "# Example usage:\n",
    "sum_result = add_numbers(5, 10, 15)\n",
    "print(\"Sum:\", sum_result)  # Output: Sum: 30\n"
   ]
  },
  {
   "cell_type": "code",
   "execution_count": 26,
   "id": "e1aaff76",
   "metadata": {},
   "outputs": [
    {
     "name": "stdout",
     "output_type": "stream",
     "text": [
      "Sum: 30\n"
     ]
    }
   ],
   "source": [
    "def add_numbers(**kwargs):\n",
    "    result = 0\n",
    "    for key, value in kwargs.items():\n",
    "        result += value\n",
    "    return result\n",
    "\n",
    "# Example usage:\n",
    "sum_result = add_numbers(num1=5, num2=10, num3=15)\n",
    "print(\"Sum:\", sum_result)  # Output: Sum: 30\n"
   ]
  },
  {
   "cell_type": "markdown",
   "id": "1c80c897",
   "metadata": {},
   "source": [
    "In this example, *args allows you to pass any number of positional arguments to the add_numbers function, and it sums them all up."
   ]
  },
  {
   "cell_type": "markdown",
   "id": "d0ef994f",
   "metadata": {},
   "source": [
    "In this example, **kwargs allows you to pass a dictionary of keyword arguments to the add_numbers function, and it sums the values.\n",
    "\n",
    "You can use either *args for positional arguments or **kwargs for keyword arguments, depending on your specific needs and how you prefer to pass the numbers to the function."
   ]
  },
  {
   "cell_type": "code",
   "execution_count": 27,
   "id": "618ea73f",
   "metadata": {},
   "outputs": [
    {
     "data": {
      "text/plain": [
       "['mother', 'of', 'dragons']"
      ]
     },
     "execution_count": 27,
     "metadata": {},
     "output_type": "execute_result"
    }
   ],
   "source": [
    "# Aplying decorator to lowercase the string first and then split\n",
    "def lowercase_decorator(function):\n",
    "    def wrapper():\n",
    "        func = function()\n",
    "        make_lowercase = func.lower()\n",
    "        return make_lowercase\n",
    "    return wrapper\n",
    "def split_string(function):\n",
    "    def wrapper():\n",
    "        func = function()\n",
    "        split_string = func.split()\n",
    "        return split_string\n",
    "    return wrapper\n",
    "@split_string\n",
    "@lowercase_decorator\n",
    "def test_func():\n",
    "    return 'MOTHER OF DRAGONS'\n",
    "test_func()\n"
   ]
  },
  {
   "cell_type": "code",
   "execution_count": 6,
   "id": "7045340a",
   "metadata": {},
   "outputs": [
    {
     "name": "stdout",
     "output_type": "stream",
     "text": [
      "['I', 'Love', 'India']\n",
      "['India', 'Love', 'I']\n"
     ]
    },
    {
     "data": {
      "text/plain": [
       "'India Love I'"
      ]
     },
     "execution_count": 6,
     "metadata": {},
     "output_type": "execute_result"
    }
   ],
   "source": [
    "def split_string(func1):\n",
    "    def splitter(st):\n",
    "        lst=st.split()\n",
    "        return func1(lst)\n",
    "    return splitter\n",
    "def reverse_string(func2):\n",
    "    def join_string(stg):\n",
    "        print(stg)\n",
    "        lt=[i for i in stg[::-1]]\n",
    "        print(lt)\n",
    "        return func2(\" \".join(lt))\n",
    "    return join_string\n",
    "@split_string\n",
    "@reverse_string\n",
    "def input(st):\n",
    "    return st\n",
    "input(\"I Love India\")"
   ]
  },
  {
   "cell_type": "code",
   "execution_count": null,
   "id": "54e1d556",
   "metadata": {},
   "outputs": [],
   "source": []
  },
  {
   "cell_type": "code",
   "execution_count": null,
   "id": "0a51fa0f",
   "metadata": {},
   "outputs": [],
   "source": []
  }
 ],
 "metadata": {
  "kernelspec": {
   "display_name": "Python 3 (ipykernel)",
   "language": "python",
   "name": "python3"
  },
  "language_info": {
   "codemirror_mode": {
    "name": "ipython",
    "version": 3
   },
   "file_extension": ".py",
   "mimetype": "text/x-python",
   "name": "python",
   "nbconvert_exporter": "python",
   "pygments_lexer": "ipython3",
   "version": "3.9.12"
  }
 },
 "nbformat": 4,
 "nbformat_minor": 5
}
