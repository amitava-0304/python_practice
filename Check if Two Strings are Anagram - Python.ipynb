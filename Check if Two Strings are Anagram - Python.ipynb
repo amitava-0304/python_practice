{
 "cells": [
  {
   "cell_type": "markdown",
   "id": "089682ee",
   "metadata": {},
   "source": [
    "## Check if Two Strings are Anagram - Python"
   ]
  },
  {
   "cell_type": "code",
   "execution_count": null,
   "id": "e168f4bf",
   "metadata": {},
   "outputs": [],
   "source": [
    "<p style=\"color: #2a6f97; font-family: Arial, sans-serif; font-size: 18px;\">\n",
    "  The task of checking if two strings are anagrams in Python involves determining whether the two strings contain the same characters with the same frequency, but possibly in a different order. For example, given the strings \"listen\" and \"silent\", they are anagrams because both contain the same characters with identical frequencies, resulting in the output \"Yes\".\n",
    "</p>\n"
   ]
  },
  {
   "cell_type": "markdown",
   "id": "df2f0402",
   "metadata": {},
   "source": [
    "## 🧩 1. Using sorted()\n",
    "The simplest method: sort both strings (after normalizing case) and compare:"
   ]
  },
  {
   "cell_type": "code",
   "execution_count": 7,
   "id": "18e9428d",
   "metadata": {},
   "outputs": [
    {
     "name": "stdout",
     "output_type": "stream",
     "text": [
      "True\n"
     ]
    }
   ],
   "source": [
    "def is_anagram(s1, s2):\n",
    "    return sorted(s1.lower()) == sorted(s2.lower())\n",
    "\n",
    "# Example\n",
    "print(is_anagram(\"Listen\", \"Silent\"))  # True\n"
   ]
  },
  {
   "cell_type": "markdown",
   "id": "36f264ea",
   "metadata": {},
   "source": [
    "### This works because anagrams have exactly the same letters, just shuffled.\n",
    "### Time complexity: O(n log n). Surprisingly efficient in C‑optimized Python for short strings"
   ]
  },
  {
   "cell_type": "markdown",
   "id": "a9c182d1",
   "metadata": {},
   "source": [
    "## ✅ 2. Using collections.Counter"
   ]
  },
  {
   "cell_type": "code",
   "execution_count": 9,
   "id": "623eaf01",
   "metadata": {},
   "outputs": [
    {
     "name": "stdout",
     "output_type": "stream",
     "text": [
      "True\n"
     ]
    }
   ],
   "source": [
    "from collections import Counter\n",
    "\n",
    "def is_anagram(s1, s2):\n",
    "    if len(s1) != len(s2):\n",
    "        return False\n",
    "    return Counter(s1.lower()) == Counter(s2.lower())\n",
    "\n",
    "# Example\n",
    "print(is_anagram(\"listen\", \"silent\"))  # True\n"
   ]
  },
  {
   "cell_type": "markdown",
   "id": "6f34f65b",
   "metadata": {},
   "source": [
    "### A more direct, efficient method with character counts.\n",
    "### Time complexity: O(n). Clean, flexible frequency‑count approach."
   ]
  },
  {
   "cell_type": "code",
   "execution_count": 10,
   "id": "d3f4a008",
   "metadata": {},
   "outputs": [
    {
     "name": "stdout",
     "output_type": "stream",
     "text": [
      "Counter({'l': 1, 'i': 1, 's': 1, 't': 1, 'e': 1, 'n': 1})\n"
     ]
    }
   ],
   "source": [
    "print(Counter(\"listen\".lower()))"
   ]
  },
  {
   "cell_type": "code",
   "execution_count": 11,
   "id": "1e460bc1",
   "metadata": {},
   "outputs": [
    {
     "name": "stdout",
     "output_type": "stream",
     "text": [
      "Counter({'s': 1, 'i': 1, 'l': 1, 'e': 1, 'n': 1, 't': 1})\n"
     ]
    }
   ],
   "source": [
    "print(Counter(\"silent\".lower()))"
   ]
  },
  {
   "cell_type": "markdown",
   "id": "b21ac426",
   "metadata": {},
   "source": [
    "## 🧪 3. Using an Alphabet Frequency Array"
   ]
  },
  {
   "cell_type": "code",
   "execution_count": 18,
   "id": "ceb1bbe1",
   "metadata": {},
   "outputs": [
    {
     "name": "stdout",
     "output_type": "stream",
     "text": [
      "True\n"
     ]
    }
   ],
   "source": [
    "def counts(s):\n",
    "    counts= [0] * 26\n",
    "    for ch in s:\n",
    "        counts[ord(ch) - ord('a')] += 1\n",
    "    return counts    \n",
    "def is_anagram(s1, s2):\n",
    "    s1, s2 = s1.lower(), s2.lower()\n",
    "    if len(s1) != len(s2):\n",
    "        return False\n",
    "\n",
    "    return counts(s1)==counts(s2)\n",
    "\n",
    "# Example\n",
    "print(is_anagram(\"listen\", \"silent\"))  # True\n"
   ]
  },
  {
   "cell_type": "code",
   "execution_count": 19,
   "id": "fda3b199",
   "metadata": {},
   "outputs": [
    {
     "name": "stdout",
     "output_type": "stream",
     "text": [
      "[0, 0, 0, 0, 1, 0, 0, 0, 1, 0, 0, 1, 0, 1, 0, 0, 0, 0, 1, 1, 0, 0, 0, 0, 0, 0]\n"
     ]
    }
   ],
   "source": [
    "print(counts(\"listen\"))"
   ]
  },
  {
   "cell_type": "code",
   "execution_count": 20,
   "id": "b7d83189",
   "metadata": {},
   "outputs": [
    {
     "name": "stdout",
     "output_type": "stream",
     "text": [
      "[0, 0, 0, 0, 1, 0, 0, 0, 1, 0, 0, 1, 0, 1, 0, 0, 0, 0, 1, 1, 0, 0, 0, 0, 0, 0]\n"
     ]
    }
   ],
   "source": [
    "print(counts(\"silent\"))"
   ]
  },
  {
   "cell_type": "markdown",
   "id": "9208cbed",
   "metadata": {},
   "source": [
    "### If your words only contain lowercase a–z, use a fixed-size count array.\n",
    "### Time: O(n), Space: O(1) (only 26 ints)."
   ]
  },
  {
   "cell_type": "markdown",
   "id": "2aecd35b",
   "metadata": {},
   "source": [
    "<hr>\n",
    "\n",
    "<h2>⚡ Performance Summary</h2>\n",
    "<ul>\n",
    "  <li><strong>Sorting:</strong> O(n log n), but often fastest in practice for short words thanks to C optimizations.</li>\n",
    "  <li><strong>Counter:</strong> O(n), clear and flexible; slightly slower for small inputs due to Python overhead.</li>\n",
    "  <li><strong>Fixed Array:</strong> O(n) with O(1) space; fastest overall when limited to a–z characters.</li>\n",
    "</ul>\n",
    "\n",
    "<hr>\n",
    "\n",
    "<h2>✅ Recommendations</h2>\n",
    "<table align=left>\n",
    "  <tr><th>Scenario</th><th>Best Method</th></tr>\n",
    "  <tr><td>Simple, short strings</td><td><code>sorted()</code></td></tr>\n",
    "  <tr><td>General cases with varied characters</td><td><code>Counter</code></td></tr>\n",
    "  <tr><td>Known lowercase alphabet, performance-critical</td><td>Fixed-size array</td></tr>\n",
    "</table>\n",
    "<br>\n"
   ]
  },
  {
   "cell_type": "markdown",
   "id": "0bd11cd9",
   "metadata": {},
   "source": [
    "<p>All three methods are valid; choose based on your specific needs!</p>\n"
   ]
  },
  {
   "cell_type": "code",
   "execution_count": null,
   "id": "a9cbdcb0",
   "metadata": {},
   "outputs": [],
   "source": []
  }
 ],
 "metadata": {
  "kernelspec": {
   "display_name": "Python 3 (ipykernel)",
   "language": "python",
   "name": "python3"
  },
  "language_info": {
   "codemirror_mode": {
    "name": "ipython",
    "version": 3
   },
   "file_extension": ".py",
   "mimetype": "text/x-python",
   "name": "python",
   "nbconvert_exporter": "python",
   "pygments_lexer": "ipython3",
   "version": "3.9.12"
  }
 },
 "nbformat": 4,
 "nbformat_minor": 5
}
