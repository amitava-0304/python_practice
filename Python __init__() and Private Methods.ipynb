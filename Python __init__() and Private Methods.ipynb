{
 "cells": [
  {
   "cell_type": "markdown",
   "id": "a1d2bd12",
   "metadata": {},
   "source": [
    "<h1>Python __init__() and Private Methods</h1>\n",
    "<p>In Python, the <code>__init__()</code> method is <strong>not private</strong>. It is a special method used for initializing an object's attributes and is part of the public interface. It can be accessed like any other method, even though it's prefixed with double underscores to indicate it's a special method.</p>\n",
    "\n",
    "<p>To make a method \"private,\" you use double underscores (e.g., <code>__private_method</code>), which triggers <strong>name mangling</strong>—Python internally renames the method to <code>_ClassName__private_method</code> to avoid accidental name conflicts. However, this is not strict access control. You can still access it directly using the mangled name, though doing so goes against Python's conventions.</p>\n",
    "\n",
    "<h2>Example:</h2>\n",
    "<pre><code>\n",
    "class MyClass:\n",
    "    def __init__(self, name):\n",
    "        self.name = name\n",
    "\n",
    "    def __private_method(self):\n",
    "        print(\"This is a private method.\")\n",
    "\n",
    "# Creating an instance\n",
    "obj = MyClass(\"Alice\")\n",
    "\n",
    "# Accessing __init__ method (implicitly called during instantiation)\n",
    "print(obj.name)  # Output: Alice\n",
    "\n",
    "# Accessing private method using the mangled name\n",
    "obj._MyClass__private_method()  # Output: This is a private method.\n",
    "</code></pre>\n"
   ]
  },
  {
   "cell_type": "code",
   "execution_count": 1,
   "id": "ca9973dc",
   "metadata": {},
   "outputs": [
    {
     "name": "stdout",
     "output_type": "stream",
     "text": [
      "Alice\n",
      "This is a private method.\n"
     ]
    }
   ],
   "source": [
    "class MyClass:\n",
    "    def __init__(self, name):\n",
    "        self.name = name\n",
    "\n",
    "    def __private_method(self):\n",
    "        print(\"This is a private method.\")\n",
    "\n",
    "# Creating an instance\n",
    "obj = MyClass(\"Alice\")\n",
    "\n",
    "# Accessing __init__ method (implicitly called during instantiation)\n",
    "print(obj.name)  # Output: Alice\n",
    "\n",
    "# Accessing private method using the mangled name\n",
    "obj._MyClass__private_method()  # Output: This is a private method.\n"
   ]
  },
  {
   "cell_type": "markdown",
   "id": "4bb8e3f6",
   "metadata": {},
   "source": [
    "<h2>Key Points:</h2>\n",
    "<ul>\n",
    "    <li><strong>__init__()</strong> is public and automatically called when creating an instance.</li>\n",
    "    <li>Private methods use name mangling (<code>__private_method</code> becomes <code>_ClassName__private_method</code>).</li>\n",
    "    <li>Accessing private methods through name mangling is possible but not recommended.</li>\n",
    "</ul>\n"
   ]
  },
  {
   "cell_type": "code",
   "execution_count": null,
   "id": "844fa399",
   "metadata": {},
   "outputs": [],
   "source": []
  }
 ],
 "metadata": {
  "kernelspec": {
   "display_name": "Python 3 (ipykernel)",
   "language": "python",
   "name": "python3"
  },
  "language_info": {
   "codemirror_mode": {
    "name": "ipython",
    "version": 3
   },
   "file_extension": ".py",
   "mimetype": "text/x-python",
   "name": "python",
   "nbconvert_exporter": "python",
   "pygments_lexer": "ipython3",
   "version": "3.9.12"
  }
 },
 "nbformat": 4,
 "nbformat_minor": 5
}
