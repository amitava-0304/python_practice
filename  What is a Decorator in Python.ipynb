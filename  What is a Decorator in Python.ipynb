{
 "cells": [
  {
   "cell_type": "markdown",
   "id": "8b83a083",
   "metadata": {},
   "source": [
    "%%html\n",
    "<h2 style=\"color:#2c3e50; font-family:Arial;\">🎀 What is a Decorator in Python?</h2>\n",
    "\n",
    "<p style=\"font-size:16px; font-family:Arial; color:#34495e;\">\n",
    "A <strong>decorator</strong> in Python is a powerful tool that allows you to modify or enhance the behavior of functions or methods <em>without changing their actual code</em>.\n",
    "Decorators use the <code>@decorator_name</code> syntax and are widely used in logging, access control, memoization, and more.\n",
    "</p>\n",
    "\n",
    "<p style=\"font-size:16px; font-family:Arial; color:#34495e;\">\n",
    "They are ideal when:\n",
    "</p>\n",
    "\n",
    "<ul style=\"line-height: 1.8; font-size: 16px; font-family:Arial; color: #34495e;\">\n",
    "  <li>🔄 You want to <strong>reuse common logic</strong> across multiple functions.</li>\n",
    "  <li>🔐 You need to add <strong>extra functionality</strong> like authentication, logging, or timing.</li>\n",
    "</ul>\n",
    "\n",
    "<h3 style=\"color:#2c3e50; font-family:Arial;\">🛠️ Real-Time Use Cases</h3>\n",
    "\n",
    "<ul style=\"line-height: 1.8; font-size: 16px; font-family:Arial; color: #34495e;\">\n",
    "  <li>📋 <strong>Logging:</strong> Automatically log function calls without modifying the original function.</li>\n",
    "  <li>⏱️ <strong>Timing:</strong> Measure how long a function takes to run.</li>\n",
    "  <li>✅ <strong>Authentication:</strong> Add security checks before allowing a function to execute.</li>\n",
    "  <li>📦 <strong>Memoization:</strong> Cache results of expensive function calls (e.g., in data science apps).</li>\n",
    "  <li>📚 <strong>Web Frameworks:</strong> Flask/Django use decorators for routing URLs to views.</li>\n",
    "</ul>\n",
    "\n",
    "<h3 style=\"color:#2c3e50; font-family:Arial;\">💡 Example: Basic Decorator</h3>\n",
    "<pre style=\"background:#f4f4f4;padding:10px;border-left:4px solid #e67e22; font-size:15px; font-family:monospace;\">\n",
    "def my_decorator(func):\n",
    "    def wrapper():\n",
    "        print(\"Before the function runs\")\n",
    "        func()\n",
    "        print(\"After the function runs\")\n",
    "    return wrapper\n",
    "\n",
    "@my_decorator\n",
    "def greet():\n",
    "    print(\"Hello, World!\")\n",
    "\n",
    "greet()\n",
    "</pre>\n",
    "\n",
    "<h3 style=\"color:#2c3e50; font-family:Arial;\">📊 Summary: Decorator Benefits</h3>\n",
    "<table style=\"border-collapse: collapse; width: 100%; font-family:Arial; font-size:15px;\">\n",
    "  <thead style=\"background-color:#e67e22; color:#fff;\">\n",
    "    <tr>\n",
    "      <th style=\"padding: 8px;\">Feature</th>\n",
    "      <th style=\"padding: 8px;\">Decorator</th>\n",
    "    </tr>\n",
    "  </thead>\n",
    "  <tbody>\n",
    "    <tr style=\"background-color:#ecf0f1;\">\n",
    "      <td style=\"padding: 8px;\">♻️ Code Reuse</td>\n",
    "      <td style=\"padding: 8px;\">High — reuse logic across functions</td>\n",
    "    </tr>\n",
    "    <tr>\n",
    "      <td style=\"padding: 8px;\">✨ Enhancing Functions</td>\n",
    "      <td style=\"padding: 8px;\">Without changing original function code</td>\n",
    "    </tr>\n",
    "    <tr style=\"background-color:#ecf0f1;\">\n",
    "      <td style=\"padding: 8px;\">📈 Common Use Cases</td>\n",
    "      <td style=\"padding: 8px;\">Logging, timing, auth, web routes</td>\n",
    "    </tr>\n",
    "    <tr>\n",
    "      <td style=\"padding: 8px;\">📌 Syntax</td>\n",
    "      <td style=\"padding: 8px;\">Uses <code>@decorator</code> above function</td>\n",
    "    </tr>\n",
    "  </tbody>\n",
    "</table>\n",
    "\n",
    "\n"
   ]
  },
  {
   "cell_type": "code",
   "execution_count": 23,
   "id": "6c7636d3",
   "metadata": {},
   "outputs": [
    {
     "name": "stdout",
     "output_type": "stream",
     "text": [
      "✅ Task Completed.\n",
      "⏱️ Execution time: 1.0263 seconds\n"
     ]
    },
    {
     "data": {
      "text/plain": [
       "49999995000000"
      ]
     },
     "execution_count": 23,
     "metadata": {},
     "output_type": "execute_result"
    }
   ],
   "source": [
    "import time\n",
    "\n",
    "def timing_decorator(func):\n",
    "    def wrapper(*args, **kwargs):\n",
    "        start = time.time()\n",
    "        result = func(*args, **kwargs)\n",
    "        end = time.time()\n",
    "        print(f\"⏱️ Execution time: {end - start:.4f} seconds\")\n",
    "        return result\n",
    "    return wrapper\n",
    "\n",
    "@timing_decorator\n",
    "def long_running_task():\n",
    "    total = 0\n",
    "    for i in range(1, 10_000_000):\n",
    "        total += i\n",
    "    print(\"✅ Task Completed.\")\n",
    "    return total\n",
    "\n",
    "# Call the function\n",
    "long_running_task()\n"
   ]
  },
  {
   "cell_type": "code",
   "execution_count": 28,
   "id": "ed90b570",
   "metadata": {},
   "outputs": [],
   "source": [
    "import datetime\n",
    "\n",
    "def log_function_call(func):\n",
    "    def wrapper(*args, **kwargs):\n",
    "        timestamp = datetime.datetime.now().strftime('%Y-%m-%d %H:%M:%S')\n",
    "        log_entry = (\n",
    "            f\"[{timestamp}] 📝 Called function: '{func.__name__}'\\n\"\n",
    "            f\"➡️ Arguments: {args}, Keyword Arguments: {kwargs}\\n\"\n",
    "        )\n",
    "        result = func(*args, **kwargs)\n",
    "        log_entry += f\"✅ Result: {result}\\n\\n\"\n",
    "        \n",
    "        print(log_entry)\n",
    "\n",
    "        # Fix encoding issue by using utf-8\n",
    "        with open(\"log.txt\", \"a\", encoding=\"utf-8\") as log_file:\n",
    "            log_file.write(log_entry)\n",
    "        \n",
    "        return result\n",
    "    return wrapper\n",
    "\n"
   ]
  },
  {
   "cell_type": "markdown",
   "id": "ed930ff0",
   "metadata": {},
   "source": [
    "💡 How to Use:<br>\n",
    "Example 1: Login"
   ]
  },
  {
   "cell_type": "code",
   "execution_count": 29,
   "id": "8dee1ba9",
   "metadata": {},
   "outputs": [
    {
     "name": "stdout",
     "output_type": "stream",
     "text": [
      "[2025-06-16 13:35:17] 📝 Called function: 'login'\n",
      "➡️ Arguments: ('admin',), Keyword Arguments: {}\n",
      "✅ Result: User 'admin' logged in.\n",
      "\n",
      "\n"
     ]
    },
    {
     "data": {
      "text/plain": [
       "\"User 'admin' logged in.\""
      ]
     },
     "execution_count": 29,
     "metadata": {},
     "output_type": "execute_result"
    }
   ],
   "source": [
    "@log_function_call\n",
    "def login(username):\n",
    "    return f\"User '{username}' logged in.\"\n",
    "\n",
    "login(\"admin\")\n"
   ]
  },
  {
   "cell_type": "markdown",
   "id": "12732b11",
   "metadata": {},
   "source": [
    "Example 2: API Call"
   ]
  },
  {
   "cell_type": "code",
   "execution_count": 30,
   "id": "723253f9",
   "metadata": {},
   "outputs": [
    {
     "name": "stdout",
     "output_type": "stream",
     "text": [
      "[2025-06-16 13:35:29] 📝 Called function: 'get_data'\n",
      "➡️ Arguments: ('user',), Keyword Arguments: {'id': 101}\n",
      "✅ Result: {'endpoint': 'user', 'id': 101}\n",
      "\n",
      "\n"
     ]
    },
    {
     "data": {
      "text/plain": [
       "{'endpoint': 'user', 'id': 101}"
      ]
     },
     "execution_count": 30,
     "metadata": {},
     "output_type": "execute_result"
    }
   ],
   "source": [
    "@log_function_call\n",
    "def get_data(endpoint, id=0):\n",
    "    return {\"endpoint\": endpoint, \"id\": id}\n",
    "\n",
    "get_data(\"user\", id=101)\n"
   ]
  },
  {
   "cell_type": "markdown",
   "id": "26d828a6",
   "metadata": {},
   "source": [
    "3. Monitoring Scheduled Job"
   ]
  },
  {
   "cell_type": "code",
   "execution_count": 31,
   "id": "cb0370c6",
   "metadata": {},
   "outputs": [
    {
     "name": "stdout",
     "output_type": "stream",
     "text": [
      "[2025-06-16 13:35:57] 📝 Called function: 'daily_backup'\n",
      "➡️ Arguments: (), Keyword Arguments: {}\n",
      "✅ Result: Backup completed successfully.\n",
      "\n",
      "\n"
     ]
    },
    {
     "data": {
      "text/plain": [
       "'Backup completed successfully.'"
      ]
     },
     "execution_count": 31,
     "metadata": {},
     "output_type": "execute_result"
    }
   ],
   "source": [
    "@log_function_call\n",
    "def daily_backup():\n",
    "    return \"Backup completed successfully.\"\n",
    "\n",
    "daily_backup()\n"
   ]
  },
  {
   "cell_type": "code",
   "execution_count": null,
   "id": "be4078c5",
   "metadata": {},
   "outputs": [],
   "source": []
  }
 ],
 "metadata": {
  "kernelspec": {
   "display_name": "Python 3 (ipykernel)",
   "language": "python",
   "name": "python3"
  },
  "language_info": {
   "codemirror_mode": {
    "name": "ipython",
    "version": 3
   },
   "file_extension": ".py",
   "mimetype": "text/x-python",
   "name": "python",
   "nbconvert_exporter": "python",
   "pygments_lexer": "ipython3",
   "version": "3.9.12"
  }
 },
 "nbformat": 4,
 "nbformat_minor": 5
}
