{
 "cells": [
  {
   "cell_type": "markdown",
   "id": "01de203e",
   "metadata": {},
   "source": [
    "# How to sort a dictionary by value without sorted function"
   ]
  },
  {
   "cell_type": "code",
   "execution_count": 12,
   "id": "f577e4d2",
   "metadata": {},
   "outputs": [],
   "source": [
    "my_dict = {'apple': 5, 'banana': 2, 'orange': 8, 'grapes': 3}"
   ]
  },
  {
   "cell_type": "markdown",
   "id": "2746bf37",
   "metadata": {},
   "source": [
    "# The list() function is used to convert this dictionary into a list of tuples. Each tuple in the list contains two elements: the key and its corresponding value from the original dictionary."
   ]
  },
  {
   "cell_type": "code",
   "execution_count": 13,
   "id": "46a5430b",
   "metadata": {},
   "outputs": [],
   "source": [
    "items = list(my_dict.items())"
   ]
  },
  {
   "cell_type": "code",
   "execution_count": 7,
   "id": "06e84c2c",
   "metadata": {},
   "outputs": [
    {
     "data": {
      "text/plain": [
       "[('apple', 5), ('banana', 2), ('orange', 8), ('grapes', 3)]"
      ]
     },
     "execution_count": 7,
     "metadata": {},
     "output_type": "execute_result"
    }
   ],
   "source": [
    "items"
   ]
  },
  {
   "cell_type": "markdown",
   "id": "7b4d59de",
   "metadata": {},
   "source": [
    "# items[i] accesses the tuple at index i in the list items."
   ]
  },
  {
   "cell_type": "code",
   "execution_count": 21,
   "id": "e79d8e5d",
   "metadata": {},
   "outputs": [
    {
     "name": "stdout",
     "output_type": "stream",
     "text": [
      "('banana', 2)\n",
      "('grapes', 3)\n",
      "('apple', 5)\n",
      "('orange', 8)\n"
     ]
    }
   ],
   "source": [
    "for i in range(n):\n",
    "    print(items[i])"
   ]
  },
  {
   "cell_type": "markdown",
   "id": "cd17d35c",
   "metadata": {},
   "source": [
    "# items[i][1] accesses the second element (index 1) of that tuple, which represents the value associated with the key in that specific tuple."
   ]
  },
  {
   "cell_type": "code",
   "execution_count": 22,
   "id": "9ef6a946",
   "metadata": {},
   "outputs": [
    {
     "name": "stdout",
     "output_type": "stream",
     "text": [
      "2\n",
      "3\n",
      "5\n",
      "8\n"
     ]
    }
   ],
   "source": [
    "for i in range(n):\n",
    "    print(items[i][1])"
   ]
  },
  {
   "cell_type": "markdown",
   "id": "b9ea1d07",
   "metadata": {},
   "source": [
    "# items[i][0] accesses the first element (index 0) of that tuple, which represents the value associated with the key in that specific tuple."
   ]
  },
  {
   "cell_type": "code",
   "execution_count": 23,
   "id": "a4eb5127",
   "metadata": {},
   "outputs": [
    {
     "name": "stdout",
     "output_type": "stream",
     "text": [
      "banana\n",
      "grapes\n",
      "apple\n",
      "orange\n"
     ]
    }
   ],
   "source": [
    "for i in range(n):\n",
    "    print(items[i][0])"
   ]
  },
  {
   "cell_type": "markdown",
   "id": "b6291e0c",
   "metadata": {},
   "source": [
    "# Perform bubble sort"
   ]
  },
  {
   "cell_type": "code",
   "execution_count": 16,
   "id": "8fc06c0b",
   "metadata": {},
   "outputs": [],
   "source": [
    "n = len(items)\n",
    "# Perform bubble sort\n",
    "for i in range(n):\n",
    "    for j in range(i+1, n):\n",
    "        if items[i][1] > items[j][1]:\n",
    "            # Swap if the current value is greater than the next value\n",
    "            items[i], items[j] = items[j], items[i]"
   ]
  },
  {
   "cell_type": "code",
   "execution_count": 17,
   "id": "7820b1d3",
   "metadata": {},
   "outputs": [
    {
     "data": {
      "text/plain": [
       "[('banana', 2), ('grapes', 3), ('apple', 5), ('orange', 8)]"
      ]
     },
     "execution_count": 17,
     "metadata": {},
     "output_type": "execute_result"
    }
   ],
   "source": [
    "items"
   ]
  },
  {
   "cell_type": "markdown",
   "id": "2283bcbc",
   "metadata": {},
   "source": [
    "# The dict() function is used to convert this list of tuples into dictionary. "
   ]
  },
  {
   "cell_type": "code",
   "execution_count": 18,
   "id": "acf06d9c",
   "metadata": {},
   "outputs": [],
   "source": [
    "sorted_dict = dict(items)"
   ]
  },
  {
   "cell_type": "code",
   "execution_count": 19,
   "id": "4e7c0e28",
   "metadata": {},
   "outputs": [
    {
     "data": {
      "text/plain": [
       "{'banana': 2, 'grapes': 3, 'apple': 5, 'orange': 8}"
      ]
     },
     "execution_count": 19,
     "metadata": {},
     "output_type": "execute_result"
    }
   ],
   "source": [
    "sorted_dict"
   ]
  }
 ],
 "metadata": {
  "kernelspec": {
   "display_name": "Python 3 (ipykernel)",
   "language": "python",
   "name": "python3"
  },
  "language_info": {
   "codemirror_mode": {
    "name": "ipython",
    "version": 3
   },
   "file_extension": ".py",
   "mimetype": "text/x-python",
   "name": "python",
   "nbconvert_exporter": "python",
   "pygments_lexer": "ipython3",
   "version": "3.9.12"
  }
 },
 "nbformat": 4,
 "nbformat_minor": 5
}
