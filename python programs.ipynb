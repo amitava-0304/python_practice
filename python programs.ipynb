{
 "cells": [
  {
   "cell_type": "markdown",
   "id": "468f0fa8",
   "metadata": {},
   "source": [
    "# 1. Group words that are anagrams together"
   ]
  },
  {
   "cell_type": "code",
   "execution_count": 1,
   "id": "45930b60",
   "metadata": {},
   "outputs": [
    {
     "name": "stdout",
     "output_type": "stream",
     "text": [
      "[['bat', 'tab'], ['listen', 'silent', 'enlist'], ['cat']]\n"
     ]
    }
   ],
   "source": [
    "def is_anagram(s1, s2):\n",
    "    return sorted(s1.lower()) == sorted(s2.lower())\n",
    "\n",
    "words = [\"bat\", \"tab\", \"listen\", \"silent\", \"enlist\", \"cat\"]\n",
    "groups = []\n",
    "\n",
    "for word in words:\n",
    "    # Check if this word is already grouped\n",
    "    if any(word in group for group in groups):\n",
    "        continue\n",
    "\n",
    "    # Use filter to find all anagrams of `word` in the list\n",
    "    group = list(filter(lambda x: is_anagram(x, word), words))\n",
    "    #print(group)\n",
    "    groups.append(group)\n",
    "\n",
    "print(groups)"
   ]
  },
  {
   "cell_type": "markdown",
   "id": "42749459",
   "metadata": {},
   "source": [
    "# 5. Rotate a tuple k positions to the right"
   ]
  },
  {
   "cell_type": "code",
   "execution_count": 2,
   "id": "1a1e30ce",
   "metadata": {},
   "outputs": [
    {
     "data": {
      "text/plain": [
       "(4, 5, 1, 2, 3)"
      ]
     },
     "execution_count": 2,
     "metadata": {},
     "output_type": "execute_result"
    }
   ],
   "source": [
    "def rotate_tuple(t, k):\n",
    "    \n",
    "    return t[-k:] + t[:-k]\n",
    "rotate_tuple((1, 2, 3, 4, 5), 2)"
   ]
  },
  {
   "cell_type": "markdown",
   "id": "3b0902f0",
   "metadata": {},
   "source": [
    "# 6. Character histogram from a string"
   ]
  },
  {
   "cell_type": "code",
   "execution_count": 3,
   "id": "87f94f0f",
   "metadata": {},
   "outputs": [
    {
     "data": {
      "text/plain": [
       "{'p': 2,\n",
       " 'y': 1,\n",
       " 't': 1,\n",
       " 'h': 1,\n",
       " 'o': 2,\n",
       " 'n': 2,\n",
       " 'r': 2,\n",
       " 'g': 2,\n",
       " 'a': 1,\n",
       " 'm': 2,\n",
       " 'i': 1}"
      ]
     },
     "execution_count": 3,
     "metadata": {},
     "output_type": "execute_result"
    }
   ],
   "source": [
    "from collections import Counter\n",
    "import string\n",
    "\n",
    "def char_histogram(s):\n",
    "    s = s.lower()\n",
    "    return dict(Counter(c for c in s if c in string.ascii_lowercase))\n",
    "char_histogram(\"Python Programming!\")"
   ]
  },
  {
   "cell_type": "markdown",
   "id": "8e7afecd",
   "metadata": {},
   "source": [
    "# 7. Evaluate a postfix math expression (no eval)"
   ]
  },
  {
   "cell_type": "code",
   "execution_count": 4,
   "id": "9cd319e9",
   "metadata": {},
   "outputs": [
    {
     "data": {
      "text/plain": [
       "14"
      ]
     },
     "execution_count": 4,
     "metadata": {},
     "output_type": "execute_result"
    }
   ],
   "source": [
    "def evaluate_expression(expr):\n",
    "    stack = []\n",
    "    for token in expr.split():\n",
    "        if token.isdigit():\n",
    "            stack.append(int(token))\n",
    "        else:\n",
    "            b = stack.pop()\n",
    "            a = stack.pop()\n",
    "            result = eval(f\"{a}{token}{b}\")\n",
    "            stack.append(result)\n",
    "    return stack[0]\n",
    "evaluate_expression(\"3 4 + 2 *\")\n",
    "# Output: 14"
   ]
  },
  {
   "cell_type": "markdown",
   "id": "10cea679",
   "metadata": {},
   "source": [
    "# 8. Split a list into chunks of size 3"
   ]
  },
  {
   "cell_type": "code",
   "execution_count": 5,
   "id": "919d7c30",
   "metadata": {},
   "outputs": [
    {
     "data": {
      "text/plain": [
       "[(1, 2, 3), (4, 5, 6), (7,)]"
      ]
     },
     "execution_count": 5,
     "metadata": {},
     "output_type": "execute_result"
    }
   ],
   "source": [
    "def chunk_list(lst, size):\n",
    "    return [tuple(lst[i:i+size]) for i in range(0, len(lst), size)]\n",
    "chunk_list([1, 2, 3, 4, 5, 6, 7], 3)\n",
    "# Output: [(1, 2, 3), (4, 5, 6), (7,)]\n"
   ]
  },
  {
   "cell_type": "markdown",
   "id": "0241e9c8",
   "metadata": {},
   "source": [
    "# 9. Create a dictionary from two lists, fill missing values with None"
   ]
  },
  {
   "cell_type": "code",
   "execution_count": 6,
   "id": "93e7e514",
   "metadata": {},
   "outputs": [
    {
     "data": {
      "text/plain": [
       "{'a': 1, 'b': 2, 'c': None, 'd': None}"
      ]
     },
     "execution_count": 6,
     "metadata": {},
     "output_type": "execute_result"
    }
   ],
   "source": [
    "from itertools import zip_longest\n",
    "\n",
    "def merge_lists(keys, values):\n",
    "    return dict(zip_longest(keys, values, fillvalue=None))\n",
    "\n",
    "merge_lists(['a', 'b', 'c', 'd'], [1, 2])"
   ]
  },
  {
   "cell_type": "markdown",
   "id": "1102f308",
   "metadata": {},
   "source": [
    "# 10. Return top N keys with highest values in a dictionary"
   ]
  },
  {
   "cell_type": "code",
   "execution_count": 8,
   "id": "b0d1d987",
   "metadata": {},
   "outputs": [
    {
     "data": {
      "text/plain": [
       "['mango', 'apple']"
      ]
     },
     "execution_count": 8,
     "metadata": {},
     "output_type": "execute_result"
    }
   ],
   "source": [
    "def top_n_items(d, n):\n",
    "    return [k for k, v in sorted(d.items(), key=lambda item: item[1], reverse=True)[:n]]\n",
    "\n",
    "top_n_items({\"apple\": 50, \"banana\": 20, \"mango\": 80, \"grapes\": 10}, 2)\n",
    "# Output: ['mango', 'apple']"
   ]
  },
  {
   "cell_type": "code",
   "execution_count": null,
   "id": "42948ece",
   "metadata": {},
   "outputs": [],
   "source": []
  }
 ],
 "metadata": {
  "kernelspec": {
   "display_name": "Python 3 (ipykernel)",
   "language": "python",
   "name": "python3"
  },
  "language_info": {
   "codemirror_mode": {
    "name": "ipython",
    "version": 3
   },
   "file_extension": ".py",
   "mimetype": "text/x-python",
   "name": "python",
   "nbconvert_exporter": "python",
   "pygments_lexer": "ipython3",
   "version": "3.9.12"
  }
 },
 "nbformat": 4,
 "nbformat_minor": 5
}
