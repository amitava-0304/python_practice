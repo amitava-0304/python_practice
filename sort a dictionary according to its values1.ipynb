{
 "cells": [
  {
   "cell_type": "code",
   "execution_count": 1,
   "id": "588b8257",
   "metadata": {},
   "outputs": [
    {
     "name": "stdout",
     "output_type": "stream",
     "text": [
      "{4: 1, 3: 2, 2: 4, 1: 5}\n"
     ]
    }
   ],
   "source": [
    "def bubble_sort_dict_by_values(dict1):\n",
    "  \"\"\"Sorts a dictionary by its values using bubble sort.\n",
    "\n",
    "  Args:\n",
    "    dict1: The dictionary to be sorted.\n",
    "\n",
    "  Returns:\n",
    "    A sorted dictionary.\n",
    "  \"\"\"\n",
    "\n",
    "  # Create a list of tuples containing the key-value pairs of the dictionary.\n",
    "  list1 = list(dict1.items())\n",
    "\n",
    "  # Sort the list of tuples based on the values.\n",
    "  list1.sort(key=lambda x: x[1])\n",
    "\n",
    "  # Create a new dictionary from the sorted list of tuples.\n",
    "  dict2 = dict(list1)\n",
    "\n",
    "  return dict2\n",
    "\n",
    "\n",
    "# Example usage:\n",
    "dict1 = {1: 5, 3: 2, 2: 4, 4: 1}\n",
    "dict2 = bubble_sort_dict_by_values(dict1)\n",
    "print(dict2)"
   ]
  },
  {
   "cell_type": "code",
   "execution_count": null,
   "id": "2160b33c",
   "metadata": {},
   "outputs": [],
   "source": []
  },
  {
   "cell_type": "code",
   "execution_count": null,
   "id": "ae642942",
   "metadata": {},
   "outputs": [],
   "source": []
  }
 ],
 "metadata": {
  "kernelspec": {
   "display_name": "Python 3 (ipykernel)",
   "language": "python",
   "name": "python3"
  },
  "language_info": {
   "codemirror_mode": {
    "name": "ipython",
    "version": 3
   },
   "file_extension": ".py",
   "mimetype": "text/x-python",
   "name": "python",
   "nbconvert_exporter": "python",
   "pygments_lexer": "ipython3",
   "version": "3.9.12"
  }
 },
 "nbformat": 4,
 "nbformat_minor": 5
}
