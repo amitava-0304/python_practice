{
 "cells": [
  {
   "cell_type": "code",
   "execution_count": 6,
   "id": "3213bd31",
   "metadata": {},
   "outputs": [
    {
     "name": "stdout",
     "output_type": "stream",
     "text": [
      "7\n"
     ]
    }
   ],
   "source": [
    "l=[2,7,2,8,9,2,9]\n",
    "l1=list(set(l))\n",
    "l2=sorted(l1)\n",
    "print(l2[len(l2)-3])       "
   ]
  },
  {
   "cell_type": "code",
   "execution_count": 12,
   "id": "2ed8512d",
   "metadata": {},
   "outputs": [
    {
     "name": "stdout",
     "output_type": "stream",
     "text": [
      "example good a\n"
     ]
    }
   ],
   "source": [
    "s = \" a good   example \"\n",
    "s=s.strip()\n",
    "l=s.split()\n",
    "l1=l[::-1]\n",
    "s=\" \".join(l1)\n",
    "print(s)"
   ]
  },
  {
   "cell_type": "code",
   "execution_count": 2,
   "id": "f7f3df28",
   "metadata": {},
   "outputs": [
    {
     "name": "stdout",
     "output_type": "stream",
     "text": [
      "{'r': 3, 'a': 3, 'c': 3}\n",
      "r\n"
     ]
    }
   ],
   "source": [
    "strs = [\"dog\",\"racecar\",\"car\"]\n",
    "l1=[]\n",
    "def sub_str(l):\n",
    "    for ch in l:\n",
    "        l1.extend([ch[i:j] for i in range(len(ch)) for j in range(i+1,len(ch)+1)])\n",
    "        \n",
    "    return l1\n",
    "\n",
    "l2=sub_str(strs)\n",
    "l3={i:l2.count(i) for i in l2 if l2.count(i) == len(strs)}\n",
    "print(l3)\n",
    "print(max(l3.keys(),key=len))\n",
    "        "
   ]
  },
  {
   "cell_type": "code",
   "execution_count": 2,
   "id": "3e5b2468",
   "metadata": {},
   "outputs": [
    {
     "name": "stdout",
     "output_type": "stream",
     "text": [
      "fl\n"
     ]
    }
   ],
   "source": [
    "def longest_common_prefix_vertical(strs):\n",
    "    if not strs:\n",
    "        return \"\"\n",
    "\n",
    "    for i in range(len(strs[0])):\n",
    "        char = strs[0][i]\n",
    "        for s in strs[1:]:\n",
    "            if i == len(s) or s[i] != char:\n",
    "                return strs[0][:i]\n",
    "    return strs[0]\n",
    "\n",
    "strs = [\"flower\", \"flow\", \"flight\"]\n",
    "result = longest_common_prefix_vertical(strs)\n",
    "print(result)  # Output: \"fl\"\n"
   ]
  },
  {
   "cell_type": "code",
   "execution_count": 3,
   "id": "b6dd43cf",
   "metadata": {},
   "outputs": [],
   "source": [
    "class Solution:\n",
    "    def longestCommonPrefix(self, v: list[str]) -> str:\n",
    "        ans=\"\"\n",
    "        v=sorted(v)\n",
    "        print(v)\n",
    "        first=v[0]\n",
    "        last=v[-1]\n",
    "        for i in range(min(len(first),len(last))):\n",
    "            if(first[i]!=last[i]):\n",
    "                  return ans\n",
    "            else:\n",
    "                ans+=first[i]\n",
    "            print(ans)\n",
    "        return ans "
   ]
  },
  {
   "cell_type": "code",
   "execution_count": 4,
   "id": "32873281",
   "metadata": {},
   "outputs": [
    {
     "name": "stdout",
     "output_type": "stream",
     "text": [
      "['flight', 'flow', 'flower']\n",
      "f\n",
      "fl\n"
     ]
    },
    {
     "data": {
      "text/plain": [
       "'fl'"
      ]
     },
     "execution_count": 4,
     "metadata": {},
     "output_type": "execute_result"
    }
   ],
   "source": [
    "s=Solution()\n",
    "s.longestCommonPrefix([\"flower\",\"flow\",\"flight\"])"
   ]
  },
  {
   "cell_type": "code",
   "execution_count": 5,
   "id": "e989a142",
   "metadata": {},
   "outputs": [
    {
     "name": "stdout",
     "output_type": "stream",
     "text": [
      "          1        2\n",
      "Q1   5000.0      NaN\n",
      "Q2   8000.0      NaN\n",
      "Q3  12000.0      NaN\n",
      "Q4  18000.0      NaN\n",
      "A       NaN  13000.0\n",
      "B       NaN  14000.0\n",
      "C       NaN  12000.0\n"
     ]
    }
   ],
   "source": [
    "import pandas as pd\n",
    "Year1={'Q1':5000,'Q2':8000,'Q3':12000,'Q4': 18000}\n",
    "Year2={'A' :13000,'B':14000,'C':12000}\n",
    "totSales={1:Year1,2:Year2}\n",
    "df=pd.DataFrame(totSales)\n",
    "print(df)"
   ]
  },
  {
   "cell_type": "code",
   "execution_count": 1,
   "id": "8dcc55dc",
   "metadata": {},
   "outputs": [],
   "source": [
    "import pandas as pd\n",
    "data={'Name':['amti','xyz','abc'],'Age':[24,25,35],'Gender':['M','F','M']}\n",
    "df=pd.DataFrame(data)"
   ]
  },
  {
   "cell_type": "code",
   "execution_count": 2,
   "id": "18e1461c",
   "metadata": {},
   "outputs": [
    {
     "data": {
      "text/html": [
       "<div>\n",
       "<style scoped>\n",
       "    .dataframe tbody tr th:only-of-type {\n",
       "        vertical-align: middle;\n",
       "    }\n",
       "\n",
       "    .dataframe tbody tr th {\n",
       "        vertical-align: top;\n",
       "    }\n",
       "\n",
       "    .dataframe thead th {\n",
       "        text-align: right;\n",
       "    }\n",
       "</style>\n",
       "<table border=\"1\" class=\"dataframe\">\n",
       "  <thead>\n",
       "    <tr style=\"text-align: right;\">\n",
       "      <th></th>\n",
       "      <th>Name</th>\n",
       "      <th>Age</th>\n",
       "      <th>Gender</th>\n",
       "    </tr>\n",
       "  </thead>\n",
       "  <tbody>\n",
       "    <tr>\n",
       "      <th>0</th>\n",
       "      <td>amti</td>\n",
       "      <td>24</td>\n",
       "      <td>M</td>\n",
       "    </tr>\n",
       "    <tr>\n",
       "      <th>1</th>\n",
       "      <td>xyz</td>\n",
       "      <td>25</td>\n",
       "      <td>F</td>\n",
       "    </tr>\n",
       "    <tr>\n",
       "      <th>2</th>\n",
       "      <td>abc</td>\n",
       "      <td>35</td>\n",
       "      <td>M</td>\n",
       "    </tr>\n",
       "  </tbody>\n",
       "</table>\n",
       "</div>"
      ],
      "text/plain": [
       "   Name  Age Gender\n",
       "0  amti   24      M\n",
       "1   xyz   25      F\n",
       "2   abc   35      M"
      ]
     },
     "execution_count": 2,
     "metadata": {},
     "output_type": "execute_result"
    }
   ],
   "source": [
    "df"
   ]
  },
  {
   "cell_type": "code",
   "execution_count": 3,
   "id": "6b66d800",
   "metadata": {},
   "outputs": [],
   "source": [
    "df['No']=df['Age'].apply(lambda x:x**2)"
   ]
  },
  {
   "cell_type": "code",
   "execution_count": 4,
   "id": "8b224c9d",
   "metadata": {},
   "outputs": [
    {
     "data": {
      "text/html": [
       "<div>\n",
       "<style scoped>\n",
       "    .dataframe tbody tr th:only-of-type {\n",
       "        vertical-align: middle;\n",
       "    }\n",
       "\n",
       "    .dataframe tbody tr th {\n",
       "        vertical-align: top;\n",
       "    }\n",
       "\n",
       "    .dataframe thead th {\n",
       "        text-align: right;\n",
       "    }\n",
       "</style>\n",
       "<table border=\"1\" class=\"dataframe\">\n",
       "  <thead>\n",
       "    <tr style=\"text-align: right;\">\n",
       "      <th></th>\n",
       "      <th>Name</th>\n",
       "      <th>Age</th>\n",
       "      <th>Gender</th>\n",
       "      <th>No</th>\n",
       "    </tr>\n",
       "  </thead>\n",
       "  <tbody>\n",
       "    <tr>\n",
       "      <th>0</th>\n",
       "      <td>amti</td>\n",
       "      <td>24</td>\n",
       "      <td>M</td>\n",
       "      <td>576</td>\n",
       "    </tr>\n",
       "    <tr>\n",
       "      <th>1</th>\n",
       "      <td>xyz</td>\n",
       "      <td>25</td>\n",
       "      <td>F</td>\n",
       "      <td>625</td>\n",
       "    </tr>\n",
       "    <tr>\n",
       "      <th>2</th>\n",
       "      <td>abc</td>\n",
       "      <td>35</td>\n",
       "      <td>M</td>\n",
       "      <td>1225</td>\n",
       "    </tr>\n",
       "  </tbody>\n",
       "</table>\n",
       "</div>"
      ],
      "text/plain": [
       "   Name  Age Gender    No\n",
       "0  amti   24      M   576\n",
       "1   xyz   25      F   625\n",
       "2   abc   35      M  1225"
      ]
     },
     "execution_count": 4,
     "metadata": {},
     "output_type": "execute_result"
    }
   ],
   "source": [
    "df"
   ]
  },
  {
   "cell_type": "code",
   "execution_count": 5,
   "id": "b547b2fd",
   "metadata": {},
   "outputs": [],
   "source": [
    "df['Status']=df['Gender'].apply(lambda x:True if x=='M' else False)"
   ]
  },
  {
   "cell_type": "code",
   "execution_count": 6,
   "id": "a53f1e33",
   "metadata": {},
   "outputs": [
    {
     "data": {
      "text/html": [
       "<div>\n",
       "<style scoped>\n",
       "    .dataframe tbody tr th:only-of-type {\n",
       "        vertical-align: middle;\n",
       "    }\n",
       "\n",
       "    .dataframe tbody tr th {\n",
       "        vertical-align: top;\n",
       "    }\n",
       "\n",
       "    .dataframe thead th {\n",
       "        text-align: right;\n",
       "    }\n",
       "</style>\n",
       "<table border=\"1\" class=\"dataframe\">\n",
       "  <thead>\n",
       "    <tr style=\"text-align: right;\">\n",
       "      <th></th>\n",
       "      <th>Name</th>\n",
       "      <th>Age</th>\n",
       "      <th>Gender</th>\n",
       "      <th>No</th>\n",
       "      <th>Status</th>\n",
       "    </tr>\n",
       "  </thead>\n",
       "  <tbody>\n",
       "    <tr>\n",
       "      <th>0</th>\n",
       "      <td>amti</td>\n",
       "      <td>24</td>\n",
       "      <td>M</td>\n",
       "      <td>576</td>\n",
       "      <td>True</td>\n",
       "    </tr>\n",
       "    <tr>\n",
       "      <th>1</th>\n",
       "      <td>xyz</td>\n",
       "      <td>25</td>\n",
       "      <td>F</td>\n",
       "      <td>625</td>\n",
       "      <td>False</td>\n",
       "    </tr>\n",
       "    <tr>\n",
       "      <th>2</th>\n",
       "      <td>abc</td>\n",
       "      <td>35</td>\n",
       "      <td>M</td>\n",
       "      <td>1225</td>\n",
       "      <td>True</td>\n",
       "    </tr>\n",
       "  </tbody>\n",
       "</table>\n",
       "</div>"
      ],
      "text/plain": [
       "   Name  Age Gender    No  Status\n",
       "0  amti   24      M   576    True\n",
       "1   xyz   25      F   625   False\n",
       "2   abc   35      M  1225    True"
      ]
     },
     "execution_count": 6,
     "metadata": {},
     "output_type": "execute_result"
    }
   ],
   "source": [
    "df"
   ]
  },
  {
   "cell_type": "code",
   "execution_count": 9,
   "id": "874b33fa",
   "metadata": {},
   "outputs": [
    {
     "data": {
      "text/plain": [
       "Gender\n",
       "F    25\n",
       "M    24\n",
       "Name: Age, dtype: int64"
      ]
     },
     "execution_count": 9,
     "metadata": {},
     "output_type": "execute_result"
    }
   ],
   "source": [
    "df1=df.groupby(['Gender'])['Age'].agg(min)\n",
    "df1"
   ]
  },
  {
   "cell_type": "code",
   "execution_count": 11,
   "id": "3f047ca4",
   "metadata": {},
   "outputs": [
    {
     "data": {
      "text/plain": [
       "Gender\n",
       "F    1\n",
       "M    2\n",
       "Name: Gender, dtype: int64"
      ]
     },
     "execution_count": 11,
     "metadata": {},
     "output_type": "execute_result"
    }
   ],
   "source": [
    "df1 = df.groupby(['Gender'])['Gender'].agg('count')\n",
    "df1"
   ]
  },
  {
   "cell_type": "code",
   "execution_count": 12,
   "id": "9af2fcb8",
   "metadata": {},
   "outputs": [
    {
     "name": "stdout",
     "output_type": "stream",
     "text": [
      "Gender\n",
      "F    1\n",
      "M    2\n",
      "dtype: int64\n"
     ]
    }
   ],
   "source": [
    "df1 = df.groupby(['Gender']).size()\n",
    "print(df1)\n"
   ]
  },
  {
   "cell_type": "code",
   "execution_count": 20,
   "id": "994b575f",
   "metadata": {},
   "outputs": [
    {
     "name": "stdout",
     "output_type": "stream",
     "text": [
      "25\n"
     ]
    }
   ],
   "source": [
    "def type_check(fun):\n",
    "    def inner(n):\n",
    "        if isinstance(n,int):\n",
    "            return fun(n)\n",
    "        else:\n",
    "            raise ValueError(\"please enter integer\")\n",
    "    \n",
    "    return inner\n",
    "\n",
    "\n",
    "@type_check\n",
    "def sqr(n:int)->int:\n",
    "    return n**2\n",
    "   \n",
    "try:\n",
    "    print(sqr(5))\n",
    "     \n",
    "except Exception as e:\n",
    "        print(e)\n",
    "\n"
   ]
  },
  {
   "cell_type": "code",
   "execution_count": 21,
   "id": "c71f6cb5",
   "metadata": {},
   "outputs": [
    {
     "data": {
      "text/plain": [
       "[2, 4, 6]"
      ]
     },
     "execution_count": 21,
     "metadata": {},
     "output_type": "execute_result"
    }
   ],
   "source": [
    "l=[2,3,4,6,7]\n",
    "l1=list(filter(lambda x:x%2==0,l))\n",
    "l1"
   ]
  },
  {
   "cell_type": "code",
   "execution_count": 22,
   "id": "cfa75270",
   "metadata": {},
   "outputs": [],
   "source": [
    "l2=list(map(lambda x:x**3,l))"
   ]
  },
  {
   "cell_type": "code",
   "execution_count": 23,
   "id": "1892f395",
   "metadata": {},
   "outputs": [
    {
     "data": {
      "text/plain": [
       "[8, 27, 64, 216, 343]"
      ]
     },
     "execution_count": 23,
     "metadata": {},
     "output_type": "execute_result"
    }
   ],
   "source": [
    "l2"
   ]
  },
  {
   "cell_type": "code",
   "execution_count": 24,
   "id": "60852137",
   "metadata": {},
   "outputs": [
    {
     "data": {
      "text/plain": [
       "1008"
      ]
     },
     "execution_count": 24,
     "metadata": {},
     "output_type": "execute_result"
    }
   ],
   "source": [
    "from functools import reduce\n",
    "l3=reduce(lambda x,y:x*y,l)\n",
    "l3"
   ]
  },
  {
   "cell_type": "code",
   "execution_count": null,
   "id": "3ecf6ffc",
   "metadata": {},
   "outputs": [],
   "source": []
  }
 ],
 "metadata": {
  "kernelspec": {
   "display_name": "Python 3 (ipykernel)",
   "language": "python",
   "name": "python3"
  },
  "language_info": {
   "codemirror_mode": {
    "name": "ipython",
    "version": 3
   },
   "file_extension": ".py",
   "mimetype": "text/x-python",
   "name": "python",
   "nbconvert_exporter": "python",
   "pygments_lexer": "ipython3",
   "version": "3.9.12"
  }
 },
 "nbformat": 4,
 "nbformat_minor": 5
}
