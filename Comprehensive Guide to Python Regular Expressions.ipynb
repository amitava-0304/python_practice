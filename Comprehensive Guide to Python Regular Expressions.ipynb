{
 "cells": [
  {
   "cell_type": "markdown",
   "id": "983a9d3f",
   "metadata": {},
   "source": [
    "<h1>Comprehensive Guide to Python Regular Expressions</h1>\n",
    "\n",
    "<p>Regular Expressions (regex) are powerful tools for pattern matching and string manipulation. Python provides the <code>re</code> module to work with regex efficiently. This guide covers the basics, common constructs, and advanced usage of regex with examples.</p>\n",
    "\n",
    "<hr>\n",
    "\n",
    "<h2>What Are Regular Expressions?</h2>\n",
    "<p>Regular Expressions are patterns used to match character combinations in strings. They can validate input, search for patterns, or manipulate text.</p>\n",
    "\n",
    "<hr>\n",
    "\n",
    "<h2>Commonly Used Functions in the <code>re</code> Module</h2>\n",
    "\n",
    "<h3>1. <code>re.match()</code></h3>\n",
    "<ul>\n",
    "  <li>Matches a pattern only at the beginning of the string.</li>\n",
    "</ul>\n",
    "<pre><code>import re\n",
    "result = re.match(r'\\d+', '123abc456')\n",
    "print(result.group())  # Output: 123\n",
    "</code></pre>\n",
    "\n",
    "<h3>2. <code>re.search()</code></h3>\n",
    "<ul>\n",
    "  <li>Searches the entire string for a match.</li>\n",
    "</ul>\n",
    "<pre><code>result = re.search(r'\\d+', 'abc123xyz')\n",
    "print(result.group())  # Output: 123\n",
    "</code></pre>\n",
    "\n",
    "<h3>3. <code>re.findall()</code></h3>\n",
    "<ul>\n",
    "  <li>Returns a list of all matches.</li>\n",
    "</ul>\n",
    "<pre><code>result = re.findall(r'\\d+', 'abc123xyz456')\n",
    "print(result)  # Output: ['123', '456']\n",
    "</code></pre>\n",
    "\n",
    "<h3>4. <code>re.finditer()</code></h3>\n",
    "<ul>\n",
    "  <li>Returns an iterator yielding match objects.</li>\n",
    "</ul>\n",
    "<pre><code>for match in re.finditer(r'\\d+', 'abc123xyz456'):\n",
    "    print(match.group())  # Output: 123 456\n",
    "</code></pre>\n",
    "\n",
    "<h3>5. <code>re.sub()</code></h3>\n",
    "<ul>\n",
    "  <li>Replaces matches with a specified string.</li>\n",
    "</ul>\n",
    "<pre><code>result = re.sub(r'\\d+', '*', 'abc123xyz456')\n",
    "print(result)  # Output: abc*xyz*\n",
    "</code></pre>\n",
    "\n",
    "<h3>6. <code>re.split()</code></h3>\n",
    "<ul>\n",
    "  <li>Splits a string by the matches.</li>\n",
    "</ul>\n",
    "<pre><code>result = re.split(r'\\d+', 'abc123xyz456')\n",
    "print(result)  # Output: ['abc', 'xyz', '']\n",
    "</code></pre>\n",
    "\n",
    "<hr>\n"
   ]
  },
  {
   "cell_type": "markdown",
   "id": "ab37e4f6",
   "metadata": {},
   "source": [
    "# In Python, a raw string is a string prefixed with the letter r or R. It is primarily used to treat backslashes (\\) in the string as literal characters, rather than as escape characters. This is especially useful when dealing with strings that contain a lot of backslashes, such as file paths or regular expressions."
   ]
  },
  {
   "cell_type": "code",
   "execution_count": 3,
   "id": "1e8bda58",
   "metadata": {},
   "outputs": [
    {
     "ename": "SyntaxError",
     "evalue": "(unicode error) 'unicodeescape' codec can't decode bytes in position 2-3: truncated \\UXXXXXXXX escape (982956812.py, line 1)",
     "output_type": "error",
     "traceback": [
      "\u001b[1;36m  Input \u001b[1;32mIn [3]\u001b[1;36m\u001b[0m\n\u001b[1;33m    normal_string = \"C:\\Users\\John\\Documents\"\u001b[0m\n\u001b[1;37m                                             ^\u001b[0m\n\u001b[1;31mSyntaxError\u001b[0m\u001b[1;31m:\u001b[0m (unicode error) 'unicodeescape' codec can't decode bytes in position 2-3: truncated \\UXXXXXXXX escape\n"
     ]
    }
   ],
   "source": [
    "normal_string = \"C:\\Users\\John\\Documents\"\n",
    "print(normal_string)  # Output: C:\\Users\\John\\Documents\n"
   ]
  },
  {
   "cell_type": "code",
   "execution_count": 2,
   "id": "7d22a605",
   "metadata": {},
   "outputs": [
    {
     "name": "stdout",
     "output_type": "stream",
     "text": [
      "C:\\Users\\John\\Documents\n"
     ]
    }
   ],
   "source": [
    "raw_string = r\"C:\\Users\\John\\Documents\"\n",
    "print(raw_string)  # Output: C:\\Users\\John\\Documents\n"
   ]
  },
  {
   "cell_type": "code",
   "execution_count": 4,
   "id": "b88249a2",
   "metadata": {},
   "outputs": [
    {
     "name": "stdout",
     "output_type": "stream",
     "text": [
      "This is a newline:\n",
      "And this is a tab:\tEnd.\n",
      "This is a newline:\\nAnd this is a tab:\\tEnd.\n"
     ]
    }
   ],
   "source": [
    "normal = \"This is a newline:\\nAnd this is a tab:\\tEnd.\"\n",
    "raw = r\"This is a newline:\\nAnd this is a tab:\\tEnd.\"\n",
    "\n",
    "print(normal)\n",
    "# Output:\n",
    "# This is a newline:\n",
    "# And this is a tab:   End.\n",
    "\n",
    "print(raw)\n",
    "# Output: This is a newline:\\nAnd this is a tab:\\tEnd.\n"
   ]
  },
  {
   "cell_type": "code",
   "execution_count": 1,
   "id": "270f0900",
   "metadata": {},
   "outputs": [],
   "source": [
    "import re"
   ]
  },
  {
   "cell_type": "code",
   "execution_count": 6,
   "id": "8c75be22",
   "metadata": {},
   "outputs": [],
   "source": [
    "score='Sachin scores 76 Dravid scores 60 Rohit scores 89 Dhoni scores 99'\n",
    "name=re.findall(r'[A-Z][a-z]*',score)\n",
    "age=re.findall(r'\\d{2}',score)"
   ]
  },
  {
   "cell_type": "code",
   "execution_count": 7,
   "id": "01c1b2c7",
   "metadata": {},
   "outputs": [
    {
     "name": "stdout",
     "output_type": "stream",
     "text": [
      "['Sachin', 'Dravid', 'Rohit', 'Dhoni']\n",
      "['76', '60', '89', '99']\n"
     ]
    }
   ],
   "source": [
    "print(name)\n",
    "print(age)"
   ]
  },
  {
   "cell_type": "code",
   "execution_count": 12,
   "id": "9e78c35b",
   "metadata": {},
   "outputs": [
    {
     "name": "stdout",
     "output_type": "stream",
     "text": [
      "search found\n",
      "['Adwitiya', 'Adwitiya']\n"
     ]
    }
   ],
   "source": [
    "str='Her name is Adwitiya and Adwitiya is a cute girl'\n",
    "if re.search('Adwitiya',str):\n",
    "    print(\"search found\")\n",
    "    match=re.findall('Adwitiya',str)\n",
    "    print(match)\n",
    "    "
   ]
  },
  {
   "cell_type": "code",
   "execution_count": 15,
   "id": "14d9bba9",
   "metadata": {},
   "outputs": [
    {
     "name": "stdout",
     "output_type": "stream",
     "text": [
      "(12, 20)\n",
      "Adwitiya\n",
      "(25, 33)\n",
      "Adwitiya\n"
     ]
    }
   ],
   "source": [
    "for i in re.finditer('Adwitiya',str):\n",
    "    index=i.span()\n",
    "    print(index)\n",
    "    print(i.group())"
   ]
  },
  {
   "cell_type": "code",
   "execution_count": 16,
   "id": "4ff5288a",
   "metadata": {},
   "outputs": [
    {
     "name": "stdout",
     "output_type": "stream",
     "text": [
      "['Rat', 'Cat', 'Mat']\n"
     ]
    }
   ],
   "source": [
    "str2='Rat Cat Pet Mat Sat'\n",
    "data=re.findall('[RCM]at',str2)\n",
    "print(data)"
   ]
  },
  {
   "cell_type": "code",
   "execution_count": 25,
   "id": "26e768f1",
   "metadata": {},
   "outputs": [
    {
     "name": "stdout",
     "output_type": "stream",
     "text": [
      "['Sat', 'Qat']\n"
     ]
    }
   ],
   "source": [
    "str2='Rat Cat Pet Mat Sat Qat'\n",
    "data=re.findall('[^RCM]at',str2)\n",
    "print(data)"
   ]
  },
  {
   "cell_type": "code",
   "execution_count": 20,
   "id": "b4625c1d",
   "metadata": {},
   "outputs": [
    {
     "name": "stdout",
     "output_type": "stream",
     "text": [
      "['Cat', 'Mat', 'Sat']\n"
     ]
    }
   ],
   "source": [
    "data2=re.findall('[^P-R]at',str2)\n",
    "print(data2)"
   ]
  },
  {
   "cell_type": "code",
   "execution_count": 27,
   "id": "195f403c",
   "metadata": {},
   "outputs": [
    {
     "name": "stdout",
     "output_type": "stream",
     "text": [
      "Lion Cat Pet Mat Sat Qat\n"
     ]
    }
   ],
   "source": [
    "reg=re.compile('[R]at')\n",
    "str2=reg.sub('Lion',str2)\n",
    "print(str2)"
   ]
  },
  {
   "cell_type": "code",
   "execution_count": 30,
   "id": "fb8901c3",
   "metadata": {},
   "outputs": [
    {
     "name": "stdout",
     "output_type": "stream",
     "text": [
      "Learn Python\n",
      "Python is a popular programming language\n",
      "Python can be used on a server to create web applications\n",
      "\n"
     ]
    }
   ],
   "source": [
    "str4='''Learn Python\n",
    "Python is a popular programming language\n",
    "Python can be used on a server to create web applications\n",
    "'''\n",
    "print(str4)"
   ]
  },
  {
   "cell_type": "code",
   "execution_count": 31,
   "id": "151b31eb",
   "metadata": {},
   "outputs": [
    {
     "name": "stdout",
     "output_type": "stream",
     "text": [
      "Learn Python Python is a popular programming language Python can be used on a server to create web applications \n"
     ]
    }
   ],
   "source": [
    "reg=re.compile('\\n')\n",
    "str5=reg.sub(' ',str4)\n",
    "print(str5)\n"
   ]
  },
  {
   "cell_type": "code",
   "execution_count": 32,
   "id": "a081f4d5",
   "metadata": {},
   "outputs": [
    {
     "name": "stdout",
     "output_type": "stream",
     "text": [
      "Number of digits: 5\n",
      "Number of alphabets: 5\n"
     ]
    }
   ],
   "source": [
    "import re\n",
    "\n",
    "pattern = 'AB123XYZ23'\n",
    "\n",
    "# Find all digits\n",
    "digits = re.findall(r'\\d', pattern)\n",
    "\n",
    "# Find all alphabets\n",
    "alphabets = re.findall(r'[a-zA-Z]', pattern)\n",
    "\n",
    "# Count them\n",
    "num_digits = len(digits)\n",
    "num_alphabets = len(alphabets)\n",
    "\n",
    "print(f\"Number of digits: {num_digits}\")\n",
    "print(f\"Number of alphabets: {num_alphabets}\")\n"
   ]
  },
  {
   "cell_type": "code",
   "execution_count": 33,
   "id": "9ee2dd16",
   "metadata": {},
   "outputs": [
    {
     "name": "stdout",
     "output_type": "stream",
     "text": [
      "Number of occurrences of '2': 2\n"
     ]
    }
   ],
   "source": [
    "occurrences_of_2 = len(re.findall(r'2', pattern))\n",
    "\n",
    "print(f\"Number of occurrences of '2': {occurrences_of_2}\")"
   ]
  },
  {
   "cell_type": "code",
   "execution_count": 34,
   "id": "070e2f36",
   "metadata": {},
   "outputs": [
    {
     "name": "stdout",
     "output_type": "stream",
     "text": [
      "9876543210 is a valid Indian phone number.\n"
     ]
    }
   ],
   "source": [
    "import re\n",
    "\n",
    "def validate_indian_phone_number(phone_number):\n",
    "    pattern = r'^[789]\\d{9}$'\n",
    "    \n",
    "    # Validate phone number\n",
    "    if re.match(pattern, phone_number):\n",
    "        return True\n",
    "    else:\n",
    "        return False\n",
    "\n",
    "# Test cases\n",
    "phone_number = '9876543210'\n",
    "if validate_indian_phone_number(phone_number):\n",
    "    print(f\"{phone_number} is a valid Indian phone number.\")\n",
    "else:\n",
    "    print(f\"{phone_number} is not a valid Indian phone number.\")\n"
   ]
  },
  {
   "cell_type": "code",
   "execution_count": null,
   "id": "d6e124f0",
   "metadata": {},
   "outputs": [],
   "source": [
    "Explanation:\n",
    "^[789]: Ensures the phone number starts with either 7, 8, or 9.\n",
    "\\d{9}: Ensures the next 9 characters are digits (\\d is a digit,\n",
    "and {9} means exactly 9 occurrences).\n",
    "$: Ensures the number has no extra characters after the 10 digits."
   ]
  },
  {
   "cell_type": "code",
   "execution_count": 35,
   "id": "0e5c84f2",
   "metadata": {},
   "outputs": [
    {
     "name": "stdout",
     "output_type": "stream",
     "text": [
      "example.email@domain.com is a valid email address.\n"
     ]
    }
   ],
   "source": [
    "import re\n",
    "\n",
    "def validate_email(email):\n",
    "    # Basic regex pattern for email validation\n",
    "    pattern = r'^[a-zA-Z0-9._%+-]+@[a-zA-Z0-9.-]+\\.[a-zA-Z]{2,}$'\n",
    "    \n",
    "    # Validate email\n",
    "    if re.match(pattern, email):\n",
    "        return True\n",
    "    else:\n",
    "        return False\n",
    "\n",
    "# Test cases\n",
    "email = 'example.email@domain.com'\n",
    "if validate_email(email):\n",
    "    print(f\"{email} is a valid email address.\")\n",
    "else:\n",
    "    print(f\"{email} is not a valid email address.\")\n"
   ]
  },
  {
   "cell_type": "code",
   "execution_count": 40,
   "id": "e6ca049a",
   "metadata": {},
   "outputs": [
    {
     "name": "stdout",
     "output_type": "stream",
     "text": [
      "Sumit Kumar is a valid name.\n"
     ]
    }
   ],
   "source": [
    "import re\n",
    "\n",
    "def validate_name(name):\n",
    "    # Regex pattern for name validation (allows letters, spaces, and hyphens)\n",
    "    pattern = r'^[a-zA-Z\\s\\-]+$'\n",
    "    \n",
    "    # Validate name\n",
    "    if re.match(pattern, name):\n",
    "        return True\n",
    "    else:\n",
    "        return False\n",
    "\n",
    "# Test cases\n",
    "name = 'Sumit Kumar'\n",
    "if validate_name(name):\n",
    "    print(f\"{name} is a valid name.\")\n",
    "else:\n",
    "    print(f\"{name} is not a valid name.\")\n"
   ]
  },
  {
   "cell_type": "code",
   "execution_count": null,
   "id": "46e0acde",
   "metadata": {},
   "outputs": [],
   "source": [
    "Explanation:\n",
    "^[a-zA-Z\\s\\-]+$:\n",
    "^ asserts the start of the string.\n",
    "[a-zA-Z\\s\\-] matches any uppercase or lowercase letter, a space, or a hyphen.\n",
    "+ matches one or more of the preceding characters.\n",
    "$ asserts the end of the string."
   ]
  },
  {
   "cell_type": "code",
   "execution_count": 39,
   "id": "efc8daf5",
   "metadata": {},
   "outputs": [
    {
     "name": "stdout",
     "output_type": "stream",
     "text": [
      "Sumit Kumar is a valid name.\n"
     ]
    }
   ],
   "source": [
    "import re\n",
    "\n",
    "def validate_name(name):\n",
    "    # Regex pattern for name validation (allows letters, spaces, and hyphens)\n",
    "    pattern = r'\\w{2,20}\\s\\w{2,20}'\n",
    "    \n",
    "    # Validate name\n",
    "    if re.match(pattern, name):\n",
    "        return True\n",
    "    else:\n",
    "        return False\n",
    "\n",
    "# Test cases\n",
    "name = 'Sumit Kumar'\n",
    "if validate_name(name):\n",
    "    print(f\"{name} is a valid name.\")\n",
    "else:\n",
    "    print(f\"{name} is not a valid name.\")\n"
   ]
  },
  {
   "cell_type": "code",
   "execution_count": null,
   "id": "49c3bdd8",
   "metadata": {},
   "outputs": [],
   "source": []
  }
 ],
 "metadata": {
  "kernelspec": {
   "display_name": "Python 3 (ipykernel)",
   "language": "python",
   "name": "python3"
  },
  "language_info": {
   "codemirror_mode": {
    "name": "ipython",
    "version": 3
   },
   "file_extension": ".py",
   "mimetype": "text/x-python",
   "name": "python",
   "nbconvert_exporter": "python",
   "pygments_lexer": "ipython3",
   "version": "3.9.12"
  }
 },
 "nbformat": 4,
 "nbformat_minor": 5
}
