{
 "cells": [
  {
   "cell_type": "markdown",
   "id": "8ab70442",
   "metadata": {},
   "source": [
    "### The `if __name__ == \"__main__\"` Idiom in Python\n",
    "\n",
    "The `if __name__ == \"__main__\"` idiom is a common pattern used in Python scripts to determine whether the script is being run directly or being imported as a module into another script.\n",
    "\n",
    "In Python, the `__name__` variable is a built-in variable that is automatically set to the name of the current module. When a Python script is run directly, the `__name__` variable is set to the string `__main__`. When the script is imported as a module into another script, the `__name__` variable is set to the name of the module.\n",
    "\n",
    "Here’s an example of how the `if __name__ == \"__main__\"` idiom can be used:\n",
    "\n"
   ]
  },
  {
   "cell_type": "code",
   "execution_count": 2,
   "id": "78a1de01",
   "metadata": {},
   "outputs": [
    {
     "name": "stdout",
     "output_type": "stream",
     "text": [
      "This script is being run directly.\n"
     ]
    }
   ],
   "source": [
    "def main():\n",
    "    print(\"This script is being run directly.\")\n",
    "\n",
    "if __name__ == \"__main__\":\n",
    "    main()\n"
   ]
  },
  {
   "cell_type": "markdown",
   "id": "ab7c5668",
   "metadata": {},
   "source": [
    "# In this example, the main function contains the code that should be run when the script is run directly. The if statement at the bottom checks whether the __name__ variable is equal to __main__. If it is, the main function is called.\n",
    "\n",
    "### Why is it useful?\n",
    "This idiom is useful because it allows you to reuse code from a script by importing it as a module into another script, without running the code in the original script. For example, consider the following script:\n"
   ]
  },
  {
   "cell_type": "code",
   "execution_count": 1,
   "id": "f5b68d1e",
   "metadata": {},
   "outputs": [
    {
     "name": "stdout",
     "output_type": "stream",
     "text": [
      "Running script directly\n"
     ]
    }
   ],
   "source": [
    "def main():\n",
    "    print(\"Running script directly\")\n",
    "    \n",
    "if __name__ == \"__main__\":\n",
    "    main()"
   ]
  },
  {
   "cell_type": "markdown",
   "id": "f8f1fa6c",
   "metadata": {},
   "source": [
    "If you run this script directly, it will output \"Running script directly\". However, if you import it as a module into another script and call the main function from the imported module, it will not output anything:"
   ]
  },
  {
   "cell_type": "code",
   "execution_count": null,
   "id": "00cf05c4",
   "metadata": {},
   "outputs": [],
   "source": [
    "import script\n",
    "\n",
    "script.main()  # Output: \"Running script directly\""
   ]
  },
  {
   "cell_type": "markdown",
   "id": "a285e285",
   "metadata": {},
   "source": [
    "<pre>\n",
    "This can be useful if you have code that you want to reuse in multiple scripts, but you only want it to run \n",
    "when the script is run directly and not when it's imported as a module.\n",
    "\n",
    "Is it a necessity?\n",
    "It's important to note that the if __name__ == \"__main__\" idiom is not required to run a Python script. \n",
    "You can still run a script without it by simply calling the functions or running the code you want to execute directly.\n",
    "However, the if __name__ == \"__main__\" idiom can be a useful tool for organizing and separating \n",
    "code that should be run directly from code that should be imported and used as a module.\n",
    "\n",
    "In summary, the if __name__ == \"__main__\" idiom is a common pattern used in Python scripts to determine \n",
    "whether the script is being run directly or being imported as a module into another script. \n",
    "It allows you to reuse code from a script by importing it as a module into another script, \n",
    "without running the code in the original script.</pre>"
   ]
  },
  {
   "cell_type": "code",
   "execution_count": null,
   "id": "23aebf25",
   "metadata": {},
   "outputs": [],
   "source": []
  }
 ],
 "metadata": {
  "kernelspec": {
   "display_name": "Python 3 (ipykernel)",
   "language": "python",
   "name": "python3"
  },
  "language_info": {
   "codemirror_mode": {
    "name": "ipython",
    "version": 3
   },
   "file_extension": ".py",
   "mimetype": "text/x-python",
   "name": "python",
   "nbconvert_exporter": "python",
   "pygments_lexer": "ipython3",
   "version": "3.9.12"
  }
 },
 "nbformat": 4,
 "nbformat_minor": 5
}
