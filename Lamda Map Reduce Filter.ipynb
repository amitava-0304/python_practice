{
 "cells": [
  {
   "cell_type": "raw",
   "id": "1e6708d3",
   "metadata": {},
   "source": [
    "What is a Python lambda function?\n",
    "A lambda function is a small anonymous function which returns an object.\n",
    "\n",
    "The object returned by lambda is usually assigned to a variable or used as a part of other bigger functions.\n",
    "\n",
    "Instead of the conventional def keyword used for creating functions, a lambda function is defined by using the lambda keyword. The structure of lambda can be seen below:\n"
   ]
  },
  {
   "cell_type": "code",
   "execution_count": 22,
   "id": "9d79b7bb",
   "metadata": {},
   "outputs": [
    {
     "name": "stdout",
     "output_type": "stream",
     "text": [
      "25\n"
     ]
    }
   ],
   "source": [
    "# A squaring lambda function\n",
    "square = lambda n : n*n\n",
    "num = square(5)\n",
    "print(num)"
   ]
  },
  {
   "cell_type": "code",
   "execution_count": 23,
   "id": "ac808235",
   "metadata": {},
   "outputs": [
    {
     "name": "stdout",
     "output_type": "stream",
     "text": [
      "2\n"
     ]
    }
   ],
   "source": [
    "# A subtraction lambda function with multiple arguments\n",
    "sub = lambda x, y : x-y\n",
    "print(sub(5, 3))"
   ]
  },
  {
   "cell_type": "raw",
   "id": "7b3e4101",
   "metadata": {},
   "source": [
    "1). The map() function:\n",
    "\n",
    "The map() function is a higher-order function. As previously stated, this function accepts another function and a sequence of ‘iterables’ as parameters and provides output after applying the function to each iterable in the sequence. It has the following syntax:\n",
    "\n",
    "SYNTAX: map(function, iterables)"
   ]
  },
  {
   "cell_type": "code",
   "execution_count": null,
   "id": "b0821b28",
   "metadata": {},
   "outputs": [],
   "source": []
  },
  {
   "cell_type": "code",
   "execution_count": 1,
   "id": "ab43f24e",
   "metadata": {},
   "outputs": [],
   "source": [
    "l = [2,3,4,5,5,6]\n",
    "l1  = []\n",
    "for i in l :\n",
    "    l1.append(i**2)"
   ]
  },
  {
   "cell_type": "code",
   "execution_count": 2,
   "id": "acb57e8f",
   "metadata": {},
   "outputs": [
    {
     "data": {
      "text/plain": [
       "[4, 9, 16, 25, 25, 36]"
      ]
     },
     "execution_count": 2,
     "metadata": {},
     "output_type": "execute_result"
    }
   ],
   "source": [
    "l1"
   ]
  },
  {
   "cell_type": "code",
   "execution_count": 3,
   "id": "703c226a",
   "metadata": {},
   "outputs": [],
   "source": [
    "def sq(n) : \n",
    "    return n**2"
   ]
  },
  {
   "cell_type": "code",
   "execution_count": 4,
   "id": "e89345fd",
   "metadata": {},
   "outputs": [
    {
     "data": {
      "text/plain": [
       "<map at 0x215509409a0>"
      ]
     },
     "execution_count": 4,
     "metadata": {},
     "output_type": "execute_result"
    }
   ],
   "source": [
    "map(sq ,l )"
   ]
  },
  {
   "cell_type": "code",
   "execution_count": 5,
   "id": "d455b78d",
   "metadata": {},
   "outputs": [
    {
     "data": {
      "text/plain": [
       "[4, 9, 16, 25, 25, 36]"
      ]
     },
     "execution_count": 5,
     "metadata": {},
     "output_type": "execute_result"
    }
   ],
   "source": [
    "list(map(sq ,l ))"
   ]
  },
  {
   "cell_type": "raw",
   "id": "4b47cbbe",
   "metadata": {},
   "source": [
    "Lambda within map() functions:\n",
    "\n",
    "Functions with no name are known as lambda functions. These functions are frequently used as input to other functions. Let’s try to integrate Lambda functions into the map() function."
   ]
  },
  {
   "cell_type": "code",
   "execution_count": 6,
   "id": "60fe288a",
   "metadata": {},
   "outputs": [
    {
     "data": {
      "text/plain": [
       "[4, 9, 16, 25, 25, 36]"
      ]
     },
     "execution_count": 6,
     "metadata": {},
     "output_type": "execute_result"
    }
   ],
   "source": [
    "list(map(lambda x : x**2 ,l ))"
   ]
  },
  {
   "cell_type": "code",
   "execution_count": 7,
   "id": "e5428227",
   "metadata": {},
   "outputs": [
    {
     "data": {
      "text/plain": [
       "[2, 3, 4, 5, 5, 6]"
      ]
     },
     "execution_count": 7,
     "metadata": {},
     "output_type": "execute_result"
    }
   ],
   "source": [
    "l"
   ]
  },
  {
   "cell_type": "code",
   "execution_count": 8,
   "id": "4d7a1d59",
   "metadata": {},
   "outputs": [
    {
     "data": {
      "text/plain": [
       "['2', '3', '4', '5', '5', '6']"
      ]
     },
     "execution_count": 8,
     "metadata": {},
     "output_type": "execute_result"
    }
   ],
   "source": [
    "list(map(lambda x : str(x) , l))"
   ]
  },
  {
   "cell_type": "code",
   "execution_count": 9,
   "id": "723c4c9a",
   "metadata": {},
   "outputs": [],
   "source": [
    "def str_c(n) :\n",
    "    return str(n)"
   ]
  },
  {
   "cell_type": "code",
   "execution_count": 10,
   "id": "2a66ceae",
   "metadata": {},
   "outputs": [
    {
     "data": {
      "text/plain": [
       "['2', '3', '4', '5', '5', '6']"
      ]
     },
     "execution_count": 10,
     "metadata": {},
     "output_type": "execute_result"
    }
   ],
   "source": [
    "list(map(str_c , l))"
   ]
  },
  {
   "cell_type": "code",
   "execution_count": 11,
   "id": "df4fb32d",
   "metadata": {},
   "outputs": [
    {
     "data": {
      "text/plain": [
       "['2', '3', '4', '5', '5', '6']"
      ]
     },
     "execution_count": 11,
     "metadata": {},
     "output_type": "execute_result"
    }
   ],
   "source": [
    "list(map(str , l))"
   ]
  },
  {
   "cell_type": "raw",
   "id": "8cbd82d9",
   "metadata": {},
   "source": [
    "The reduce() function:\n",
    "\n",
    "The reduce() function applies a provided function to ‘iterables’ and returns a single value, as the name implies.\n",
    "SYNTAX: reduce(function, iterables)\n",
    "\n",
    "The function specifies which expression should be applied to the ‘iterables’ in this case. The function tools module must be used to import this function."
   ]
  },
  {
   "attachments": {
    "57493Untitled.png": {
     "image/png": "[encoded data removed]"
    }
   },
   "cell_type": "markdown",
   "id": "2a7fc776",
   "metadata": {},
   "source": [
    "![57493Untitled.png](attachment:57493Untitled.png)"
   ]
  },
  {
   "cell_type": "code",
   "execution_count": 14,
   "id": "5cf36d38",
   "metadata": {},
   "outputs": [
    {
     "data": {
      "text/plain": [
       "187"
      ]
     },
     "execution_count": 14,
     "metadata": {},
     "output_type": "execute_result"
    }
   ],
   "source": [
    "from functools import reduce\n",
    "reduce(lambda a,b: a+b,[23,21,45,98])"
   ]
  },
  {
   "cell_type": "raw",
   "id": "cf57ca98",
   "metadata": {},
   "source": [
    "The filter() function:\n",
    "\n",
    "The filter() function is used to generate an output list of values that return true when the function is called. It has the following syntax:\n",
    "\n",
    "SYNTAX: filter (function, iterables)\n",
    "\n",
    "This function like map(), can take user-defined functions and lambda functions as parameters."
   ]
  },
  {
   "cell_type": "code",
   "execution_count": 15,
   "id": "d6f5ada5",
   "metadata": {},
   "outputs": [],
   "source": [
    "l = [1,2,3,4,45,5]"
   ]
  },
  {
   "cell_type": "code",
   "execution_count": 16,
   "id": "dccb88ab",
   "metadata": {},
   "outputs": [
    {
     "data": {
      "text/plain": [
       "[2, 4]"
      ]
     },
     "execution_count": 16,
     "metadata": {},
     "output_type": "execute_result"
    }
   ],
   "source": [
    "list(filter(lambda x : x%2==0 , l))"
   ]
  },
  {
   "cell_type": "code",
   "execution_count": 17,
   "id": "14ec71db",
   "metadata": {},
   "outputs": [],
   "source": [
    "def check_even(n) : \n",
    "    if n%2 == 0 :\n",
    "            return True "
   ]
  },
  {
   "cell_type": "code",
   "execution_count": 18,
   "id": "37b50f3e",
   "metadata": {},
   "outputs": [
    {
     "data": {
      "text/plain": [
       "[2, 4]"
      ]
     },
     "execution_count": 18,
     "metadata": {},
     "output_type": "execute_result"
    }
   ],
   "source": [
    "list(filter(check_even , l))"
   ]
  },
  {
   "cell_type": "code",
   "execution_count": 19,
   "id": "c2ab8129",
   "metadata": {},
   "outputs": [
    {
     "name": "stdout",
     "output_type": "stream",
     "text": [
      "<filter object at 0x0000021550940490>\n",
      "[3, 4]\n"
     ]
    }
   ],
   "source": [
    "def func(x):\n",
    "    if x>=3:\n",
    "        return x\n",
    "y = filter(func, (1,2,3,4))  \n",
    "print(y)\n",
    "print(list(y))"
   ]
  },
  {
   "cell_type": "code",
   "execution_count": 20,
   "id": "606fe9d8",
   "metadata": {},
   "outputs": [
    {
     "name": "stdout",
     "output_type": "stream",
     "text": [
      "[3, 4]\n"
     ]
    }
   ],
   "source": [
    "y = filter(lambda x: (x>=3), (1,2,3,4))\n",
    "print(list(y))"
   ]
  },
  {
   "cell_type": "code",
   "execution_count": 1,
   "id": "d15b6bf1",
   "metadata": {},
   "outputs": [],
   "source": [
    "lst=[1,2,4,5,6,7,8]\n",
    "fl=list(filter(lambda x:x%2==0,lst))"
   ]
  },
  {
   "cell_type": "code",
   "execution_count": 2,
   "id": "0c7b025a",
   "metadata": {},
   "outputs": [
    {
     "data": {
      "text/plain": [
       "[2, 4, 6, 8]"
      ]
     },
     "execution_count": 2,
     "metadata": {},
     "output_type": "execute_result"
    }
   ],
   "source": [
    "fl"
   ]
  },
  {
   "cell_type": "code",
   "execution_count": 3,
   "id": "3da849be",
   "metadata": {},
   "outputs": [],
   "source": [
    "fl=list(map(lambda x:x%2==0,lst))"
   ]
  },
  {
   "cell_type": "code",
   "execution_count": 4,
   "id": "61e2ae18",
   "metadata": {},
   "outputs": [
    {
     "data": {
      "text/plain": [
       "[False, True, True, False, True, False, True]"
      ]
     },
     "execution_count": 4,
     "metadata": {},
     "output_type": "execute_result"
    }
   ],
   "source": [
    "fl"
   ]
  },
  {
   "cell_type": "code",
   "execution_count": 5,
   "id": "340c2b7f",
   "metadata": {},
   "outputs": [],
   "source": [
    "fl=list(map(lambda x:x**2,lst))"
   ]
  },
  {
   "cell_type": "code",
   "execution_count": 6,
   "id": "3812eb69",
   "metadata": {},
   "outputs": [
    {
     "data": {
      "text/plain": [
       "[1, 4, 16, 25, 36, 49, 64]"
      ]
     },
     "execution_count": 6,
     "metadata": {},
     "output_type": "execute_result"
    }
   ],
   "source": [
    "fl"
   ]
  },
  {
   "cell_type": "code",
   "execution_count": 8,
   "id": "e63f8188",
   "metadata": {},
   "outputs": [],
   "source": [
    "from functools import reduce\n",
    "fr=reduce(lambda x,y:x+y,lst)"
   ]
  },
  {
   "cell_type": "code",
   "execution_count": 9,
   "id": "b6242eb6",
   "metadata": {},
   "outputs": [
    {
     "data": {
      "text/plain": [
       "33"
      ]
     },
     "execution_count": 9,
     "metadata": {},
     "output_type": "execute_result"
    }
   ],
   "source": [
    "fr"
   ]
  },
  {
   "cell_type": "code",
   "execution_count": 5,
   "id": "603a3cfb",
   "metadata": {},
   "outputs": [
    {
     "name": "stdout",
     "output_type": "stream",
     "text": [
      "Function calculate_multiply took 0.0000 seconds to execute\n",
      "Result: 0\n"
     ]
    }
   ],
   "source": [
    "import time\n",
    "\n",
    "def measure_execution_time(func):\n",
    "    def wrapper(*args, **kwargs):\n",
    "        start_time = time.time()\n",
    "        result = func(*args, **kwargs)\n",
    "        end_time = time.time()\n",
    "        execution_time = end_time - start_time\n",
    "        print(f\"Function {func.__name__} took {execution_time:.4f} seconds to execute\")\n",
    "        return result\n",
    "    return wrapper\n",
    "\n",
    "# Example usage\n",
    "@measure_execution_time\n",
    "def calculate_multiply(numbers):\n",
    "    tot = 1\n",
    "    for x in numbers:\n",
    "        tot *= x\n",
    "    return tot\n",
    "\n",
    "# Call the decorated function\n",
    "result = calculate_multiply([i for i in range(1000)])\n",
    "print(\"Result:\", result)\n"
   ]
  },
  {
   "cell_type": "code",
   "execution_count": 12,
   "id": "f8a1992b",
   "metadata": {},
   "outputs": [
    {
     "name": "stdout",
     "output_type": "stream",
     "text": [
      "Sorted employees (regular function): [{'name': 'Bob', 'age': 28}, {'name': 'Alice', 'age': 34}, {'name': 'Charlie', 'age': 45}]\n"
     ]
    }
   ],
   "source": [
    "# List of dictionaries\n",
    "employees = [\n",
    "    {\"name\": \"Alice\", \"age\": 34},\n",
    "    {\"name\": \"Bob\", \"age\": 28},\n",
    "    {\"name\": \"Charlie\", \"age\": 45},\n",
    "]\n",
    "\n",
    "# Define a regular function to extract the 'age' key\n",
    "def get_age(employee):\n",
    "    return employee[\"age\"]\n",
    "\n",
    "# Use the regular function in sorted()\n",
    "sorted_employees = sorted(employees, key=get_age)\n",
    "\n",
    "# Print the result\n",
    "print(\"Sorted employees (regular function):\", sorted_employees)\n"
   ]
  },
  {
   "cell_type": "code",
   "execution_count": 13,
   "id": "6d6b9d4a",
   "metadata": {},
   "outputs": [
    {
     "name": "stdout",
     "output_type": "stream",
     "text": [
      "Sorted employees (lambda function): [{'name': 'Bob', 'age': 28}, {'name': 'Alice', 'age': 34}, {'name': 'Charlie', 'age': 45}]\n"
     ]
    }
   ],
   "source": [
    "# List of dictionaries\n",
    "employees = [\n",
    "    {\"name\": \"Alice\", \"age\": 34},\n",
    "    {\"name\": \"Bob\", \"age\": 28},\n",
    "    {\"name\": \"Charlie\", \"age\": 45},\n",
    "]\n",
    "\n",
    "# Use a lambda function directly in sorted()\n",
    "sorted_employees = sorted(employees, key=lambda employee: employee[\"age\"])\n",
    "\n",
    "# Print the result\n",
    "print(\"Sorted employees (lambda function):\", sorted_employees)\n"
   ]
  },
  {
   "cell_type": "code",
   "execution_count": 11,
   "id": "427f380e",
   "metadata": {},
   "outputs": [
    {
     "name": "stdout",
     "output_type": "stream",
     "text": [
      "Execution time (regular function): 0.689856 seconds\n",
      "Execution time (lambda function): 0.816066 seconds\n"
     ]
    }
   ],
   "source": [
    "import timeit\n",
    "\n",
    "# List of dictionaries for sorting\n",
    "employees = [\n",
    "    {\"name\": \"Alice\", \"age\": 34},\n",
    "    {\"name\": \"Bob\", \"age\": 28},\n",
    "    {\"name\": \"Charlie\", \"age\": 45},\n",
    "]\n",
    "\n",
    "# Define the regular function to extract 'age'\n",
    "def get_age(employee):\n",
    "    return employee[\"age\"]\n",
    "\n",
    "# Timer for regular function\n",
    "time_regular_function = timeit.timeit(\n",
    "    \"sorted(employees, key=get_age)\",\n",
    "    setup=\"from __main__ import employees, get_age\",\n",
    "    number=1000000,  # Number of iterations\n",
    ")\n",
    "\n",
    "# Timer for lambda function\n",
    "time_lambda_function = timeit.timeit(\n",
    "    \"sorted(employees, key=lambda employee: employee['age'])\",\n",
    "    setup=\"from __main__ import employees\",\n",
    "    number=1000000,  # Number of iterations\n",
    ")\n",
    "\n",
    "# Print the results\n",
    "print(f\"Execution time (regular function): {time_regular_function:.6f} seconds\")\n",
    "print(f\"Execution time (lambda function): {time_lambda_function:.6f} seconds\")\n"
   ]
  },
  {
   "cell_type": "code",
   "execution_count": 14,
   "id": "21c34bfc",
   "metadata": {},
   "outputs": [],
   "source": [
    "employees = [\n",
    "    {\"name\": \"Alice\", \"age\": 34},\n",
    "    {\"name\": \"Bob\", \"age\": 28},\n",
    "    {\"name\": \"Charlie\", \"age\": 45},\n",
    "]"
   ]
  },
  {
   "cell_type": "code",
   "execution_count": 17,
   "id": "63de9e19",
   "metadata": {},
   "outputs": [
    {
     "data": {
      "text/plain": [
       "[{'name': 'Bob', 'age': 28},\n",
       " {'name': 'Alice', 'age': 34},\n",
       " {'name': 'Charlie', 'age': 45}]"
      ]
     },
     "execution_count": 17,
     "metadata": {},
     "output_type": "execute_result"
    }
   ],
   "source": [
    "sorted(employees, key=lambda x: x[\"age\"])"
   ]
  },
  {
   "cell_type": "code",
   "execution_count": null,
   "id": "a295a2d3",
   "metadata": {},
   "outputs": [],
   "source": []
  }
 ],
 "metadata": {
  "kernelspec": {
   "display_name": "Python 3 (ipykernel)",
   "language": "python",
   "name": "python3"
  },
  "language_info": {
   "codemirror_mode": {
    "name": "ipython",
    "version": 3
   },
   "file_extension": ".py",
   "mimetype": "text/x-python",
   "name": "python",
   "nbconvert_exporter": "python",
   "pygments_lexer": "ipython3",
   "version": "3.9.12"
  }
 },
 "nbformat": 4,
 "nbformat_minor": 5
}
