{
 "cells": [
  {
   "cell_type": "markdown",
   "id": "a60ffee7",
   "metadata": {},
   "source": [
    "# ✅ 1. Decorator to Log Function Execution Time"
   ]
  },
  {
   "cell_type": "code",
   "execution_count": 1,
   "id": "5a82e8b3",
   "metadata": {},
   "outputs": [
    {
     "name": "stdout",
     "output_type": "stream",
     "text": [
      "Function completed.\n",
      "Execution Time: 2.01 seconds\n"
     ]
    }
   ],
   "source": [
    "import time\n",
    "\n",
    "def log_time(func):\n",
    "    def wrapper(*args, **kwargs):\n",
    "        start = time.time()\n",
    "        result = func(*args, **kwargs)\n",
    "        end = time.time()\n",
    "        print(f\"Execution Time: {end - start:.2f} seconds\")\n",
    "        return result\n",
    "    return wrapper\n",
    "\n",
    "@log_time\n",
    "def slow_function():\n",
    "    time.sleep(2)\n",
    "    print(\"Function completed.\")\n",
    "\n",
    "slow_function()\n"
   ]
  },
  {
   "cell_type": "markdown",
   "id": "4a48fcf9",
   "metadata": {},
   "source": [
    "# ✅ 2. Decorator to Check Login Before Function Call"
   ]
  },
  {
   "cell_type": "code",
   "execution_count": 2,
   "id": "bbabb4f7",
   "metadata": {},
   "outputs": [
    {
     "name": "stdout",
     "output_type": "stream",
     "text": [
      "Access denied. Please log in.\n"
     ]
    }
   ],
   "source": [
    "user = {'username': 'Alice', 'logged_in': False}\n",
    "\n",
    "def require_login(func):\n",
    "    def wrapper(*args, **kwargs):\n",
    "        if user['logged_in']:\n",
    "            return func(*args, **kwargs)\n",
    "        else:\n",
    "            print(\"Access denied. Please log in.\")\n",
    "    return wrapper\n",
    "\n",
    "@require_login\n",
    "def access_dashboard():\n",
    "    print(\"Welcome to dashboard.\")\n",
    "\n",
    "access_dashboard()\n"
   ]
  },
  {
   "cell_type": "markdown",
   "id": "02c5be14",
   "metadata": {},
   "source": [
    "# ✅ 3. Decorator to Count Function Calls"
   ]
  },
  {
   "cell_type": "code",
   "execution_count": 3,
   "id": "3b60374b",
   "metadata": {},
   "outputs": [
    {
     "name": "stdout",
     "output_type": "stream",
     "text": [
      "Call 1: Hello!\n",
      "Call 2: Hello!\n",
      "Call 3: Hello!\n"
     ]
    }
   ],
   "source": [
    "def count_calls(func):\n",
    "    def wrapper(*args, **kwargs):\n",
    "        wrapper.count += 1\n",
    "        print(f\"Call {wrapper.count}:\", end=\" \")\n",
    "        return func(*args, **kwargs)\n",
    "    wrapper.count = 0\n",
    "    return wrapper\n",
    "\n",
    "@count_calls\n",
    "def say_hello():\n",
    "    print(\"Hello!\")\n",
    "\n",
    "say_hello()\n",
    "say_hello()\n",
    "say_hello()\n"
   ]
  },
  {
   "cell_type": "markdown",
   "id": "bb392aa8",
   "metadata": {},
   "source": [
    "# ✅ 4. Decorator with Arguments (Repeat Function)"
   ]
  },
  {
   "cell_type": "code",
   "execution_count": 4,
   "id": "bc868f45",
   "metadata": {},
   "outputs": [
    {
     "name": "stdout",
     "output_type": "stream",
     "text": [
      "Hi!\n",
      "Hi!\n",
      "Hi!\n"
     ]
    }
   ],
   "source": [
    "def repeat(n):\n",
    "    def decorator(func):\n",
    "        def wrapper(*args, **kwargs):\n",
    "            for _ in range(n):\n",
    "                func(*args, **kwargs)\n",
    "        return wrapper\n",
    "    return decorator\n",
    "\n",
    "@repeat(3)\n",
    "def greet():\n",
    "    print(\"Hi!\")\n",
    "\n",
    "greet()\n"
   ]
  },
  {
   "cell_type": "markdown",
   "id": "903abbe7",
   "metadata": {},
   "source": [
    "# ✅ 5. Multiple Decorators (Uppercase + Exclamation)"
   ]
  },
  {
   "cell_type": "code",
   "execution_count": 5,
   "id": "b77e28df",
   "metadata": {},
   "outputs": [
    {
     "name": "stdout",
     "output_type": "stream",
     "text": [
      "GOOD MORNING!\n"
     ]
    }
   ],
   "source": [
    "def uppercase(func):\n",
    "    def wrapper(*args, **kwargs):\n",
    "        return func(*args, **kwargs).upper()\n",
    "    return wrapper\n",
    "\n",
    "def add_exclamation(func):\n",
    "    def wrapper(*args, **kwargs):\n",
    "        return func(*args, **kwargs) + \"!\"\n",
    "    return wrapper\n",
    "\n",
    "@add_exclamation\n",
    "@uppercase\n",
    "def message():\n",
    "    return \"good morning\"\n",
    "\n",
    "print(message())\n"
   ]
  },
  {
   "cell_type": "code",
   "execution_count": null,
   "id": "a6a1128a",
   "metadata": {},
   "outputs": [],
   "source": []
  }
 ],
 "metadata": {
  "kernelspec": {
   "display_name": "Python 3 (ipykernel)",
   "language": "python",
   "name": "python3"
  },
  "language_info": {
   "codemirror_mode": {
    "name": "ipython",
    "version": 3
   },
   "file_extension": ".py",
   "mimetype": "text/x-python",
   "name": "python",
   "nbconvert_exporter": "python",
   "pygments_lexer": "ipython3",
   "version": "3.9.12"
  }
 },
 "nbformat": 4,
 "nbformat_minor": 5
}
