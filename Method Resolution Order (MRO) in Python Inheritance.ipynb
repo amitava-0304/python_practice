{
 "cells": [
  {
   "cell_type": "markdown",
   "id": "37e499ef",
   "metadata": {},
   "source": [
    "  <h1>Method Resolution Order (MRO) in Python Inheritance</h1>\n",
    "  <p>\n",
    "    Method Resolution Order (MRO) in Python determines the order in which base classes are searched \n",
    "    when looking for a method or attribute. Python uses the <strong>C3 linearization algorithm</strong> \n",
    "    to define the MRO for a class. You can view the MRO using the <code>mro()</code> method or the \n",
    "    <code>__mro__</code> attribute.\n",
    "  </p>\n",
    "  \n",
    "  <h2>Example:</h2>\n",
    "\n",
    "  \n",
    "  "
   ]
  },
  {
   "cell_type": "code",
   "execution_count": 1,
   "id": "3c57a03c",
   "metadata": {},
   "outputs": [
    {
     "name": "stdout",
     "output_type": "stream",
     "text": [
      "Method in B\n",
      "[<class '__main__.D'>, <class '__main__.B'>, <class '__main__.C'>, <class '__main__.A'>, <class 'object'>]\n"
     ]
    }
   ],
   "source": [
    "class A:\n",
    "    def show(self):\n",
    "        print(\"Method in A\")\n",
    "\n",
    "class B(A):\n",
    "    def show(self):\n",
    "        print(\"Method in B\")\n",
    "\n",
    "class C(A):\n",
    "    def show(self):\n",
    "        print(\"Method in C\")\n",
    "\n",
    "class D(B, C):\n",
    "    pass\n",
    "\n",
    "# Creating an object of class D\n",
    "d = D()\n",
    "\n",
    "# Calling the 'show' method\n",
    "d.show()\n",
    "\n",
    "# Printing the Method Resolution Order\n",
    "print(D.mro())  # or print(D.__mro__)\n",
    " "
   ]
  },
  {
   "cell_type": "markdown",
   "id": "e87de3d4",
   "metadata": {},
   "source": [
    "<h2>Explanation:</h2>\n",
    "  <ol>\n",
    "    <li><strong>Class Hierarchy:</strong>\n",
    "      <ul>\n",
    "        <li><code>D</code> inherits from <code>B</code> and <code>C</code>.</li>\n",
    "        <li><code>B</code> and <code>C</code> inherit from <code>A</code>.</li>\n",
    "      </ul>\n",
    "    </li>\n",
    "    <li><strong>Method Resolution:</strong>\n",
    "      <p>When <code>d.show()</code> is called:</p>\n",
    "      <ul>\n",
    "        <li>Python searches the method <code>show</code> in <code>D</code>'s MRO.</li>\n",
    "        <li>It first checks <code>D</code>, then <code>B</code>, then <code>C</code>, and finally <code>A</code>.</li>\n",
    "      </ul>\n",
    "    </li>\n",
    "    <li><strong>Output:</strong>\n",
    "<pre>"
   ]
  },
  {
   "cell_type": "markdown",
   "id": "c864b85c",
   "metadata": {},
   "source": [
    "<h2>Key Points:</h2>\n",
    "  <ul>\n",
    "    <li>The MRO ensures that each class is searched only once.</li>\n",
    "    <li>The order respects the inheritance hierarchy and avoids ambiguity in multiple inheritance.</li>\n",
    "    <li>The <code>object</code> class is always at the end of the MRO in new-style classes (Python 3 and later).</li>\n",
    "  </ul>\n",
    "</body>\n"
   ]
  },
  {
   "cell_type": "code",
   "execution_count": null,
   "id": "3961c1b4",
   "metadata": {},
   "outputs": [],
   "source": []
  }
 ],
 "metadata": {
  "kernelspec": {
   "display_name": "Python 3 (ipykernel)",
   "language": "python",
   "name": "python3"
  },
  "language_info": {
   "codemirror_mode": {
    "name": "ipython",
    "version": 3
   },
   "file_extension": ".py",
   "mimetype": "text/x-python",
   "name": "python",
   "nbconvert_exporter": "python",
   "pygments_lexer": "ipython3",
   "version": "3.9.12"
  }
 },
 "nbformat": 4,
 "nbformat_minor": 5
}
