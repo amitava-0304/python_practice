{
 "cells": [
  {
   "cell_type": "code",
   "execution_count": 2,
   "id": "d74bcdf5",
   "metadata": {},
   "outputs": [],
   "source": [
    "ugly_list = [10, 12, 36, [41, 59, 63], [77], 81, 93]\n",
    "output = []\n",
    "for i in ugly_list:\n",
    "    if isinstance(i, list):\n",
    "        output.extend(i) \n",
    "    else:\n",
    "        output.append(i)"
   ]
  },
  {
   "cell_type": "code",
   "execution_count": 3,
   "id": "eb7fb550",
   "metadata": {},
   "outputs": [
    {
     "name": "stdout",
     "output_type": "stream",
     "text": [
      "[10, 12, 36, 41, 59, 63, 77, 81, 93]\n"
     ]
    }
   ],
   "source": [
    "print(output)"
   ]
  },
  {
   "cell_type": "markdown",
   "id": "9ca58e94",
   "metadata": {},
   "source": [
    "The isinstance function in Python is used to check if an object is an instance of a specified class or a tuple of classes. It returns True if the object is an instance (or subclass instance) of the given class, and False otherwise."
   ]
  },
  {
   "cell_type": "raw",
   "id": "2be2ea1a",
   "metadata": {},
   "source": [
    "** isinstance(object, classinfo)\n",
    "** object: The object to be checked.\n",
    "** classinfo: A class, type, or tuple of classes/types to check against.\n"
   ]
  },
  {
   "cell_type": "code",
   "execution_count": 4,
   "id": "9c495785",
   "metadata": {},
   "outputs": [
    {
     "name": "stdout",
     "output_type": "stream",
     "text": [
      "True\n",
      "True\n",
      "True\n",
      "False\n"
     ]
    }
   ],
   "source": [
    "# Example with integers\n",
    "x = 5\n",
    "print(isinstance(x, int))  # True\n",
    "\n",
    "# Example with strings\n",
    "y = \"Hello\"\n",
    "print(isinstance(y, str))  # True\n",
    "\n",
    "# Example with a float\n",
    "z = 3.14\n",
    "print(isinstance(z, float))  # True\n",
    "\n",
    "# Example with a wrong type\n",
    "print(isinstance(z, int))  # False\n"
   ]
  },
  {
   "cell_type": "code",
   "execution_count": null,
   "id": "699ae0fc",
   "metadata": {},
   "outputs": [],
   "source": [
    "l=['xyz', 12, 36,'abc', 81, 93]\n",
    "Q:Try to add all integer elements"
   ]
  },
  {
   "cell_type": "code",
   "execution_count": null,
   "id": "005cc70a",
   "metadata": {},
   "outputs": [],
   "source": [
    "l= [10, 12, 36, [41, 59, 63], [77], 81, 93]\n",
    "Q:Try to add all elements"
   ]
  },
  {
   "cell_type": "code",
   "execution_count": 5,
   "id": "a3735be8",
   "metadata": {},
   "outputs": [],
   "source": [
    "a = [10, 20, 30, 20, 10, 50, 60, 40, 80, 50, 40]\n",
    "Q:Remove duplicates from a list"
   ]
  },
  {
   "cell_type": "code",
   "execution_count": null,
   "id": "2fd10444",
   "metadata": {},
   "outputs": [],
   "source": [
    "Question:\n",
    "\n",
    "Write a Python function to find the second largest number in a given list of integers. \n",
    "Ensure your solution handles edge cases such as lists with duplicate values and lists with fewer than two elements.\n",
    "\n",
    "Examples:\n",
    "\n",
    "Input: [12, 35, 1, 10, 34, 1]\n",
    "Output: 34\n",
    "\n",
    "Input: [10, 10, 10]\n",
    "Output: None (There is no second largest number)\n",
    "\n",
    "Input: [5]\n",
    "Output: None (The list has fewer than two elements)"
   ]
  },
  {
   "cell_type": "code",
   "execution_count": null,
   "id": "df9fb26e",
   "metadata": {},
   "outputs": [],
   "source": [
    "Original list of integers:\n",
    "[1, 2, 3, 4, 5, 6, 7, 8, 9, 10]\n",
    "output:[1, 4, 9, 16, 25, 36, 49, 64, 81, 100]\n",
    "output:[1, 8, 27, 64, 125, 216, 343, 512, 729, 1000] try this using map and lambda"
   ]
  },
  {
   "cell_type": "code",
   "execution_count": 12,
   "id": "b0fd34b6",
   "metadata": {},
   "outputs": [],
   "source": [
    "d1 = {'key1': 50, 'key2': 100, 'key3':200}\n",
    "\n",
    "d2 = {'key1': 200, 'key2': 100, 'key4':300}\n",
    "\n",
    "#out_dic = {'key1': 250, 'key2': 200, 'key3':200, 'key4':300}"
   ]
  },
  {
   "cell_type": "code",
   "execution_count": 17,
   "id": "4219ffbe",
   "metadata": {},
   "outputs": [],
   "source": [
    "out_dic={}\n",
    "for (i,j) in zip(d1,d2):\n",
    "    if i==j:\n",
    "        out_dic[i]=d1.get(i)+d2.get(j)\n",
    "    else:\n",
    "        out_dic[i]=d1.get(i)\n",
    "        out_dic[j]=d2.get(j)"
   ]
  },
  {
   "cell_type": "code",
   "execution_count": 18,
   "id": "94aecd3b",
   "metadata": {},
   "outputs": [
    {
     "name": "stdout",
     "output_type": "stream",
     "text": [
      "{'key1': 250, 'key2': 200, 'key3': 200, 'key4': 300}\n"
     ]
    }
   ],
   "source": [
    "print(out_dic)"
   ]
  },
  {
   "cell_type": "markdown",
   "id": "3987db3f",
   "metadata": {},
   "source": [
    "The zip() function in Python is used to combine multiple iterables (such as lists, tuples, or dictionaries) into an iterator of tuples. It pairs the elements of the iterables by their positions, creating a tuple for each pair of corresponding elements."
   ]
  },
  {
   "cell_type": "code",
   "execution_count": null,
   "id": "6584df50",
   "metadata": {},
   "outputs": [],
   "source": [
    "zip(iterable1, iterable2, ...)\n"
   ]
  },
  {
   "cell_type": "markdown",
   "id": "c823ddae",
   "metadata": {},
   "source": [
    "iterable1, iterable2, ...: These are the iterables you want to combine. You can pass any number of iterables (lists, tuples, etc.) to zip()."
   ]
  },
  {
   "cell_type": "code",
   "execution_count": 20,
   "id": "7af31548",
   "metadata": {},
   "outputs": [
    {
     "name": "stdout",
     "output_type": "stream",
     "text": [
      "[(1, 'a'), (2, 'b'), (3, 'c')]\n"
     ]
    }
   ],
   "source": [
    "list1 = [1, 2, 3]\n",
    "list2 = ['a', 'b', 'c']\n",
    "\n",
    "result = zip(list1, list2)\n",
    "\n",
    "# Convert to list to see the result\n",
    "print(list(result))\n"
   ]
  },
  {
   "cell_type": "code",
   "execution_count": null,
   "id": "4cfc0d5c",
   "metadata": {},
   "outputs": [],
   "source": [
    "Example 2: Iterating Over Multiple Dictionaries\n",
    "Suppose you have two dictionaries and want to pair their key-value pairs:"
   ]
  },
  {
   "cell_type": "code",
   "execution_count": 21,
   "id": "b6d66031",
   "metadata": {},
   "outputs": [
    {
     "name": "stdout",
     "output_type": "stream",
     "text": [
      "key1: 50, key1: 200\n",
      "key2: 100, key2: 300\n"
     ]
    }
   ],
   "source": [
    "d1 = {'key1': 50, 'key2': 100}\n",
    "d2 = {'key1': 200, 'key2': 300}\n",
    "\n",
    "for (key1, value1), (key2, value2) in zip(d1.items(), d2.items()):\n",
    "    print(f'{key1}: {value1}, {key2}: {value2}')\n"
   ]
  },
  {
   "cell_type": "code",
   "execution_count": null,
   "id": "7aaf5e9c",
   "metadata": {},
   "outputs": [],
   "source": [
    "Example 3: Handling Iterables of Different Lengths\n",
    "If you pass iterables of different lengths, zip() stops at the shortest one:"
   ]
  },
  {
   "cell_type": "code",
   "execution_count": 22,
   "id": "9cecd326",
   "metadata": {},
   "outputs": [
    {
     "name": "stdout",
     "output_type": "stream",
     "text": [
      "[(1, 'a'), (2, 'b')]\n"
     ]
    }
   ],
   "source": [
    "list1 = [1, 2, 3]\n",
    "list2 = ['a', 'b']\n",
    "\n",
    "result = zip(list1, list2)\n",
    "print(list(result))\n"
   ]
  },
  {
   "cell_type": "markdown",
   "id": "4e093953",
   "metadata": {},
   "source": [
    "Example 4: Using zip_longest() from itertools\n",
    "If you want to pair elements from iterables of different lengths and fill the missing values with a default value, you can use itertools.zip_longest()."
   ]
  },
  {
   "cell_type": "code",
   "execution_count": 23,
   "id": "2510e69d",
   "metadata": {},
   "outputs": [
    {
     "name": "stdout",
     "output_type": "stream",
     "text": [
      "[(1, 'a'), (2, 'b'), (3, None)]\n"
     ]
    }
   ],
   "source": [
    "from itertools import zip_longest\n",
    "\n",
    "list1 = [1, 2, 3]\n",
    "list2 = ['a', 'b']\n",
    "\n",
    "result = zip_longest(list1, list2, fillvalue=None)\n",
    "print(list(result))\n"
   ]
  },
  {
   "cell_type": "code",
   "execution_count": null,
   "id": "f4567736",
   "metadata": {},
   "outputs": [],
   "source": []
  }
 ],
 "metadata": {
  "kernelspec": {
   "display_name": "Python 3 (ipykernel)",
   "language": "python",
   "name": "python3"
  },
  "language_info": {
   "codemirror_mode": {
    "name": "ipython",
    "version": 3
   },
   "file_extension": ".py",
   "mimetype": "text/x-python",
   "name": "python",
   "nbconvert_exporter": "python",
   "pygments_lexer": "ipython3",
   "version": "3.9.12"
  }
 },
 "nbformat": 4,
 "nbformat_minor": 5
}
