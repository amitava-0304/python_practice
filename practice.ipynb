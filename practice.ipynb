{
 "cells": [
  {
   "cell_type": "code",
   "execution_count": 2,
   "id": "93429505",
   "metadata": {},
   "outputs": [],
   "source": [
    "ugly_list = [10, 12, 36, [41, 59, 63], [77], 81, 93]\n",
    "output = []\n",
    "for i in ugly_list:\n",
    "    if isinstance(i, list):\n",
    "        output.extend(i) \n",
    "    else:\n",
    "        output.append(i)"
   ]
  },
  {
   "cell_type": "code",
   "execution_count": 3,
   "id": "6785f039",
   "metadata": {},
   "outputs": [
    {
     "name": "stdout",
     "output_type": "stream",
     "text": [
      "[10, 12, 36, 41, 59, 63, 77, 81, 93]\n"
     ]
    }
   ],
   "source": [
    "print(output)"
   ]
  },
  {
   "cell_type": "markdown",
   "id": "dad051f8",
   "metadata": {},
   "source": [
    "The isinstance function in Python is used to check if an object is an instance of a specified class or a tuple of classes. It returns True if the object is an instance (or subclass instance) of the given class, and False otherwise."
   ]
  },
  {
   "cell_type": "raw",
   "id": "9c62f584",
   "metadata": {},
   "source": [
    "** isinstance(object, classinfo)\n",
    "** object: The object to be checked.\n",
    "** classinfo: A class, type, or tuple of classes/types to check against.\n"
   ]
  },
  {
   "cell_type": "code",
   "execution_count": 4,
   "id": "938efff1",
   "metadata": {},
   "outputs": [
    {
     "name": "stdout",
     "output_type": "stream",
     "text": [
      "True\n",
      "True\n",
      "True\n",
      "False\n"
     ]
    }
   ],
   "source": [
    "# Example with integers\n",
    "x = 5\n",
    "print(isinstance(x, int))  # True\n",
    "\n",
    "# Example with strings\n",
    "y = \"Hello\"\n",
    "print(isinstance(y, str))  # True\n",
    "\n",
    "# Example with a float\n",
    "z = 3.14\n",
    "print(isinstance(z, float))  # True\n",
    "\n",
    "# Example with a wrong type\n",
    "print(isinstance(z, int))  # False\n"
   ]
  },
  {
   "cell_type": "code",
   "execution_count": null,
   "id": "b2f8d08f",
   "metadata": {},
   "outputs": [],
   "source": [
    "l=['xyz', 12, 36,'abc', 81, 93]\n",
    "Q:Try to add all integer elements"
   ]
  },
  {
   "cell_type": "code",
   "execution_count": null,
   "id": "47d8def1",
   "metadata": {},
   "outputs": [],
   "source": [
    "l= [10, 12, 36, [41, 59, 63], [77], 81, 93]\n",
    "Q:Try to add all elements"
   ]
  },
  {
   "cell_type": "code",
   "execution_count": 5,
   "id": "9b699cb2",
   "metadata": {},
   "outputs": [],
   "source": [
    "a = [10, 20, 30, 20, 10, 50, 60, 40, 80, 50, 40]\n",
    "Q:Remove duplicates from a list"
   ]
  },
  {
   "cell_type": "code",
   "execution_count": null,
   "id": "fc9b22ee",
   "metadata": {},
   "outputs": [],
   "source": [
    "Question:\n",
    "\n",
    "Write a Python function to find the second largest number in a given list of integers. \n",
    "Ensure your solution handles edge cases such as lists with duplicate values and lists with fewer than two elements.\n",
    "\n",
    "Examples:\n",
    "\n",
    "Input: [12, 35, 1, 10, 34, 1]\n",
    "Output: 34\n",
    "\n",
    "Input: [10, 10, 10]\n",
    "Output: None (There is no second largest number)\n",
    "\n",
    "Input: [5]\n",
    "Output: None (The list has fewer than two elements)"
   ]
  },
  {
   "cell_type": "code",
   "execution_count": null,
   "id": "d46f0438",
   "metadata": {},
   "outputs": [],
   "source": [
    "Original list of integers:\n",
    "[1, 2, 3, 4, 5, 6, 7, 8, 9, 10]\n",
    "output:[1, 4, 9, 16, 25, 36, 49, 64, 81, 100]\n",
    "output:[1, 8, 27, 64, 125, 216, 343, 512, 729, 1000] try this using map and lambda"
   ]
  }
 ],
 "metadata": {
  "kernelspec": {
   "display_name": "Python 3 (ipykernel)",
   "language": "python",
   "name": "python3"
  },
  "language_info": {
   "codemirror_mode": {
    "name": "ipython",
    "version": 3
   },
   "file_extension": ".py",
   "mimetype": "text/x-python",
   "name": "python",
   "nbconvert_exporter": "python",
   "pygments_lexer": "ipython3",
   "version": "3.9.12"
  }
 },
 "nbformat": 4,
 "nbformat_minor": 5
}
